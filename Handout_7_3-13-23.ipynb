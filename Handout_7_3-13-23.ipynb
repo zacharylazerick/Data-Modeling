{
 "cells": [
  {
   "cell_type": "markdown",
   "id": "7e3eded1-4285-415d-8d12-96c8f02a4a9f",
   "metadata": {},
   "source": [
    "# Handout 7 Experiments in k-Means Clustering\n",
    "\n",
    "Before break we had a Pythonless lecture on k-Means clustering. Here we'll dig into \n",
    "the naive/intuitive algorithm and run several experiments.\n",
    "\n",
    "The algorithm is implemented in the Python script *cluster_k-means.py*, which is posted\n",
    "in Canvas. You should download the script and place it in your class folder.\n",
    "\n",
    "There three Exploration questions below. Briefly write up your observations, insert them \n",
    "below, and submit them in Canvas by 3/20.\n",
    "\n",
    "This script has two parts:\n",
    "\n",
    "### PART 1\n",
    "\n",
    "   (0)  The user chooses K, the initial number of normal distributions, and k, the number of \n",
    "        clusters being computed. \n",
    "        \n",
    "   (i)  The script generates K clusters of normally distributed points. The script chooses means\n",
    "        standard deviations, and numbers of points for the clusters randomly. However, these\n",
    "        could be assigned.\n",
    "\n",
    "  (ii)  It combines/concatenates the K np.arrays into a single two column array of length N.\n",
    "        It also creates a list of indices, indicating the group number a point is assigned to.\n",
    "\n",
    " (iii)  It plots and colors the points according to their initial pre-assigned groups.\n",
    "\n",
    "\n",
    "### PART 2\n",
    "\n",
    "For the data produced in PART 1 (or a data set provided by the user) and called \"points\" in the code:\n",
    "\n",
    "   (iv) Randomly chooses k of the points to be the initial means.\n",
    "\n",
    "   (v)  Applies the intuitive k-means clustering algorithm for the user defined k\n",
    "\n",
    "  (vi)  Plots and colors the points according to the computed optimal clusters\n",
    "\n",
    "   (vii) Prints the number of points that are re-assigned at each step of the \n",
    "         algorithm and ends with 0 re-assigned points when the solution is \n",
    "         attained, i.e. points are no longerby the algorithm\n",
    "\n",
    "  (viii) Plots the final partition of points into clusters along with the \n",
    "         Voronoi cells centered at the cluster means. Note the means are not\n",
    "         in the data set\n",
    "    "
   ]
  },
  {
   "cell_type": "markdown",
   "id": "d561e927-5802-4d87-82eb-8aec18696459",
   "metadata": {},
   "source": [
    "## Varying Parameters\n",
    "\n",
    "In addition to $K$ and $k$, there are several other parameters you can adjust:\n",
    "\n",
    "* *Size = np.random.randint(100,size = K) + 50*\n",
    "This determines the number of elements in the initial normal distributions. The mininimum size is 50\n",
    "and the maximum size is 150. Both the 50 and 100 can be adjusted. This controls the density of the distributions.\n",
    "\n",
    "* *Means = np.random.randint(50,size = (K,2)) - 50/2*\n",
    "This determines the locations of the distribution means in the plane. The default produces random integers\n",
    "between -25 and 25. This can be adjusted. Larger values spread the normal distributions. \n",
    "\n",
    "By varying the size, density, and spread of the clusters, we can see the effect of choosing different\n",
    "values of $k$."
   ]
  },
  {
   "cell_type": "markdown",
   "id": "13edc07a-83d8-47a6-b859-0694f529e5d8",
   "metadata": {
    "tags": []
   },
   "source": [
    "## Explorations\n",
    "\n",
    "1. First run the script for different combinations of $k$ and $K$ to understand the effect of these\n",
    "two parameters. Pay attention to the final arrangement of points  and the Voronoi cells. \n",
    "\n",
    "* By rerunning in it's entirety, what range of behaviors do you see for a fixed pair of $k$ and $K$?\n",
    "\n",
    "* Consider $k = K$, $k > K$ and $k < K$.\n",
    "\n",
    "* Pay attention to the number of iterations and the list of points moved at each rount of the algorithm.\n",
    "  This is in the printed output. \n",
    "\n",
    "2. Choose parameter values modify Size and Means so that the intitial distributions are less dense and\n",
    "have smaller overlaps. Do you see different behaviors from those in the first question.\n",
    "\n",
    "3. The code can be run once. Then one can rerun the code starting at line 136 where the intial positions of the\n",
    "means are chosen randomly. Run the code several times from line 136. \n",
    "\n",
    "* Do you notice any differences in the final clusters or the Voronoi cells?\n",
    "\n",
    "* Does the choice of initial points affect the number of steps it takes for the algorithm to converge?\n"
   ]
  },
  {
   "cell_type": "markdown",
   "id": "e9d0f4b0",
   "metadata": {},
   "source": [
    "### 1.\n",
    "\n",
    "Changing k affects the number of clusters generated. As k increases, the number of clusters generated increases. Also, as k increases, the number of iterations for the program to terminate (i.e. times the while loop runs until their are no changes made) increases. This intuitively makes sense since the more means we have, the more possible opportunities for group assignment we have. \n",
    "\n",
    "Changing K affects how dense the clusters are. As K increases, the more dense the clusters and vice versa. Also, as K increases, the number of points generated also increases, and vice versa.\n",
    "\n",
    "When k = K, the appears to be a uniform spread of the distributions. When k > K, the distributions are not uniform, there is a large degree of overlap until the final sorting completes. The opposite is true when k < K. \n",
    "\n",
    "### 2. \n",
    "\n",
    "Different behaviour is observed. With the distributions more spread out, small values of k increase the amount of iterations required to terminate the program. However, larger values of k appear to hit a leveling off point where the same amount of iterations are required to terminate.\n",
    "\n",
    "The nature of K stays the same.\n",
    "\n",
    "### 3.\n",
    "\n",
    "The location of the final clusters of the Voronoi cells largely stay the same. The only notable differences come with changes in k. Smaller/bigger values of k lead to bigger/smaller Voronoi cells. With more means being calculated, the time it takes for the program to terminate increases. However, these differences are mostly negligible aside from values of k > 30. "
   ]
  }
 ],
 "metadata": {
  "kernelspec": {
   "display_name": "Python 3 (ipykernel)",
   "language": "python",
   "name": "python3"
  },
  "language_info": {
   "codemirror_mode": {
    "name": "ipython",
    "version": 3
   },
   "file_extension": ".py",
   "mimetype": "text/x-python",
   "name": "python",
   "nbconvert_exporter": "python",
   "pygments_lexer": "ipython3",
   "version": "3.9.13"
  }
 },
 "nbformat": 4,
 "nbformat_minor": 5
}
