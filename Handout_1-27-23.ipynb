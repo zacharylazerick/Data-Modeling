{
 "cells": [
  {
   "cell_type": "markdown",
   "id": "23d1bf7d-2cf4-4524-ae47-3dc3459ba91d",
   "metadata": {},
   "source": [
    "# Handout problems for 1/27/23\n",
    "\n",
    "Here are three short coding exercises of increasing complexity. Work with a partner or two on this. \n",
    "\n",
    "Solutions will be posted later today. "
   ]
  },
  {
   "cell_type": "markdown",
   "id": "52a1c04d-66dd-4ca3-a003-eb6f679a0a12",
   "metadata": {},
   "source": [
    "### 1. \n",
    "In the real numbers **R** let $S$ be the set $S = [0,1] \\cup [2,3]$. \n",
    "\n",
    "(a) Using a conditional statement,\n",
    "write a test to see if a real number *x* is contained in $S$. \n",
    "* The input should be the value of *x*.\n",
    "* The output should be a statement saying either that *x* is in $S$ or *x* is not in $S$.\n",
    "\n",
    "(b) Construct a function called *inS* that contains your conditional statement. The only input \n",
    "should be *x*. The output should be the same statement."
   ]
  },
  {
   "cell_type": "code",
   "execution_count": 1,
   "id": "44bb09ea",
   "metadata": {},
   "outputs": [
    {
     "name": "stdout",
     "output_type": "stream",
     "text": [
      "0.5 is in S.\n",
      "1.5 is not in S.\n",
      "5 is not in S.\n"
     ]
    }
   ],
   "source": [
    "def inS(x):\n",
    "    x <- float(x)\n",
    "    if ((x >= 0 and x <= 1) or (x >= 2 and x <= 3)):\n",
    "        print(x, 'is in S.')\n",
    "    else:\n",
    "        print(x, 'is not in S.')\n",
    "\n",
    "inS(.5)\n",
    "inS(1.5)\n",
    "inS(5)"
   ]
  },
  {
   "cell_type": "markdown",
   "id": "9ea63514-babf-4bda-a789-587bfc189794",
   "metadata": {},
   "source": [
    "### 2\n",
    "In the plane ${\\bf R}^2$, let $Sq$ be the square $ Sq = [0,1] \\times [2,3] $. \n",
    "\n",
    "(a) Using a conditional statement write a test to see if a point *[x,y]* is contained in $Sq$. \n",
    "* The input should be the value of *x*.\n",
    "* The output should be a statement saying either that *x* is in $Sq$ or *x* is not in $Sq$.\n",
    "\n",
    "(b) Construct a function called *inSq* that contains your conditional statement. The only input \n",
    "should be *[x,y]*. "
   ]
  },
  {
   "cell_type": "code",
   "execution_count": 2,
   "id": "b2521709",
   "metadata": {},
   "outputs": [
    {
     "name": "stdout",
     "output_type": "stream",
     "text": [
      "(1.5, 2) is in the square.\n",
      "(3, 2) is not in the square.\n",
      "(1, 4) is not in the square.\n",
      "(4, 4) is not in the square.\n"
     ]
    }
   ],
   "source": [
    "def inSq(x, y):\n",
    "    x <- float(x); y <- float(y)\n",
    "    if (x >= 0 and x <= 2) and (y >= 1 and y <= 3):\n",
    "        print((x, y), \"is in the square.\")\n",
    "    else:\n",
    "        print((x, y), \"is not in the square.\")\n",
    "\n",
    "inSq(1.5, 2)\n",
    "inSq(3, 2)\n",
    "inSq(1, 4)\n",
    "inSq(4, 4)"
   ]
  },
  {
   "cell_type": "markdown",
   "id": "9ab96758-8eeb-4791-9629-12ede6ce18f2",
   "metadata": {},
   "source": [
    "### 3\n",
    "\n",
    "Returning to the setup of problem 1:\n",
    "    \n",
    "(a) Write a conditional to check whether two intervals are in the correct interval format, so *[a,b]* really has *a <= b*.\n",
    "Use this to construct a function to test whether the input *[a,b]* is in correct interval format. \n",
    "\n",
    "(b) Construct a function whose inputs are x, [a,b], and [c,d] that\n",
    "* first checks that [a,b] and [c,d] are in correct interval format\n",
    "* second checks that [a,b] and [c,d] are disjoint (Hint: What two possibilities do you have to consider?)\n",
    "* third checks that x is in $S = [a,b] \\cup [c,d]$\n",
    "\n",
    "If either of the intervals is not in interval format, it should output which interval is not in the correct format.\n",
    "If both are in the correct format, it should output whether or not x is in $S$.\n",
    "\n",
    "You can use the key word *break* to interrupt the running of the function if either interval is not in the correct\n",
    "format."
   ]
  },
  {
   "cell_type": "code",
   "execution_count": 2,
   "id": "6cbf5624-1431-42dc-9e7d-81b69140fdfe",
   "metadata": {},
   "outputs": [
    {
     "ename": "TypeError",
     "evalue": "'<' not supported between instances of 'list' and 'float'",
     "output_type": "error",
     "traceback": [
      "\u001b[1;31m---------------------------------------------------------------------------\u001b[0m",
      "\u001b[1;31mTypeError\u001b[0m                                 Traceback (most recent call last)",
      "\u001b[1;32m~\\AppData\\Local\\Temp\\ipykernel_8168\\301261430.py\u001b[0m in \u001b[0;36m<module>\u001b[1;34m\u001b[0m\n\u001b[0;32m     11\u001b[0m             \u001b[0mprint\u001b[0m\u001b[1;33m(\u001b[0m\u001b[0mx\u001b[0m\u001b[1;33m,\u001b[0m \u001b[1;34m'is not in the Union.'\u001b[0m\u001b[1;33m)\u001b[0m\u001b[1;33m\u001b[0m\u001b[1;33m\u001b[0m\u001b[0m\n\u001b[0;32m     12\u001b[0m \u001b[1;33m\u001b[0m\u001b[0m\n\u001b[1;32m---> 13\u001b[1;33m \u001b[0minUnion\u001b[0m\u001b[1;33m(\u001b[0m\u001b[1;36m2\u001b[0m\u001b[1;33m,\u001b[0m \u001b[1;33m[\u001b[0m\u001b[1;36m1\u001b[0m\u001b[1;33m,\u001b[0m \u001b[1;36m3\u001b[0m\u001b[1;33m]\u001b[0m\u001b[1;33m,\u001b[0m \u001b[1;33m[\u001b[0m\u001b[1;36m4\u001b[0m\u001b[1;33m,\u001b[0m \u001b[1;36m6\u001b[0m\u001b[1;33m]\u001b[0m\u001b[1;33m)\u001b[0m\u001b[1;33m\u001b[0m\u001b[1;33m\u001b[0m\u001b[0m\n\u001b[0m\u001b[0;32m     14\u001b[0m \u001b[0minUnion\u001b[0m\u001b[1;33m(\u001b[0m\u001b[1;36m4\u001b[0m\u001b[1;33m,\u001b[0m \u001b[1;33m[\u001b[0m\u001b[1;36m0\u001b[0m\u001b[1;33m,\u001b[0m \u001b[1;36m1\u001b[0m\u001b[1;33m]\u001b[0m\u001b[1;33m,\u001b[0m \u001b[1;33m[\u001b[0m\u001b[1;36m2\u001b[0m\u001b[1;33m,\u001b[0m \u001b[1;36m3\u001b[0m\u001b[1;33m]\u001b[0m\u001b[1;33m)\u001b[0m\u001b[1;33m\u001b[0m\u001b[1;33m\u001b[0m\u001b[0m\n\u001b[0;32m     15\u001b[0m \u001b[0minUnion\u001b[0m\u001b[1;33m(\u001b[0m\u001b[1;36m2\u001b[0m\u001b[1;33m,\u001b[0m \u001b[1;33m[\u001b[0m\u001b[1;36m4\u001b[0m\u001b[1;33m,\u001b[0m \u001b[1;36m2\u001b[0m\u001b[1;33m]\u001b[0m\u001b[1;33m,\u001b[0m \u001b[1;33m[\u001b[0m\u001b[1;36m6\u001b[0m\u001b[1;33m,\u001b[0m \u001b[1;36m7\u001b[0m\u001b[1;33m]\u001b[0m\u001b[1;33m)\u001b[0m\u001b[1;33m\u001b[0m\u001b[1;33m\u001b[0m\u001b[0m\n",
      "\u001b[1;32m~\\AppData\\Local\\Temp\\ipykernel_8168\\301261430.py\u001b[0m in \u001b[0;36minUnion\u001b[1;34m(x, interval1, interval2)\u001b[0m\n\u001b[0;32m      1\u001b[0m \u001b[1;32mdef\u001b[0m \u001b[0minUnion\u001b[0m\u001b[1;33m(\u001b[0m\u001b[0mx\u001b[0m\u001b[1;33m,\u001b[0m \u001b[0minterval1\u001b[0m\u001b[1;33m,\u001b[0m \u001b[0minterval2\u001b[0m\u001b[1;33m)\u001b[0m\u001b[1;33m:\u001b[0m\u001b[1;33m\u001b[0m\u001b[1;33m\u001b[0m\u001b[0m\n\u001b[1;32m----> 2\u001b[1;33m     \u001b[0mx\u001b[0m \u001b[1;33m<\u001b[0m\u001b[1;33m-\u001b[0m \u001b[0mfloat\u001b[0m\u001b[1;33m(\u001b[0m\u001b[0mx\u001b[0m\u001b[1;33m)\u001b[0m\u001b[1;33m;\u001b[0m \u001b[0minterval1\u001b[0m \u001b[1;33m<\u001b[0m\u001b[1;33m-\u001b[0m \u001b[0mfloat\u001b[0m\u001b[1;33m(\u001b[0m\u001b[1;36m1\u001b[0m\u001b[1;33m)\u001b[0m\u001b[1;33m;\u001b[0m \u001b[0minterval2\u001b[0m \u001b[1;33m<\u001b[0m\u001b[1;33m-\u001b[0m \u001b[0mfloat\u001b[0m\u001b[1;33m(\u001b[0m\u001b[0minterval2\u001b[0m\u001b[1;33m)\u001b[0m\u001b[1;33m;\u001b[0m\u001b[1;33m\u001b[0m\u001b[1;33m\u001b[0m\u001b[0m\n\u001b[0m\u001b[0;32m      3\u001b[0m     \u001b[1;32mif\u001b[0m \u001b[1;33m(\u001b[0m\u001b[0mformat\u001b[0m\u001b[1;33m(\u001b[0m\u001b[0minterval1\u001b[0m\u001b[1;33m)\u001b[0m \u001b[1;33m==\u001b[0m \u001b[0mF\u001b[0m\u001b[1;33m)\u001b[0m\u001b[1;33m:\u001b[0m\u001b[1;33m\u001b[0m\u001b[1;33m\u001b[0m\u001b[0m\n\u001b[0;32m      4\u001b[0m         \u001b[0mprint\u001b[0m\u001b[1;33m(\u001b[0m\u001b[1;34m\"The interval\"\u001b[0m\u001b[1;33m,\u001b[0m \u001b[0minterval1\u001b[0m\u001b[1;33m,\u001b[0m \u001b[1;34m\"is in the incorrect format.\"\u001b[0m\u001b[1;33m)\u001b[0m\u001b[1;33m\u001b[0m\u001b[1;33m\u001b[0m\u001b[0m\n\u001b[0;32m      5\u001b[0m     \u001b[1;32melif\u001b[0m \u001b[1;33m(\u001b[0m\u001b[0mformat\u001b[0m\u001b[1;33m(\u001b[0m\u001b[0minterval2\u001b[0m \u001b[1;33m==\u001b[0m \u001b[0mF\u001b[0m\u001b[1;33m)\u001b[0m\u001b[1;33m)\u001b[0m\u001b[1;33m:\u001b[0m\u001b[1;33m\u001b[0m\u001b[1;33m\u001b[0m\u001b[0m\n",
      "\u001b[1;31mTypeError\u001b[0m: '<' not supported between instances of 'list' and 'float'"
     ]
    }
   ],
   "source": [
    "def inUnion(x, interval1, interval2):\n",
    "    x <- float(x); interval1 <- float(1); interval2 <- float(interval2); \n",
    "    if (format(interval1) == F):\n",
    "        print(\"The interval\", interval1, \"is in the incorrect format.\")\n",
    "    elif (format(interval2 == F)):\n",
    "        print(\"The interval\", interval2, \"is in the incorrect format.\")\n",
    "    else:\n",
    "        if ((x >= a and x <= b) or (x >= c and x <= d)):\n",
    "            print(x, 'is in the Union.')\n",
    "        else:\n",
    "            print(x, 'is not in the Union.')\n",
    "\n",
    "inUnion(2, [1, 3], [4, 6])\n",
    "inUnion(4, [0, 1], [2, 3])\n",
    "inUnion(2, [4, 2], [6, 7])\n",
    "inUnion(2, [2, 4], [7, 6])"
   ]
  }
 ],
 "metadata": {
  "kernelspec": {
   "display_name": "Python 3 (ipykernel)",
   "language": "python",
   "name": "python3"
  },
  "language_info": {
   "codemirror_mode": {
    "name": "ipython",
    "version": 3
   },
   "file_extension": ".py",
   "mimetype": "text/x-python",
   "name": "python",
   "nbconvert_exporter": "python",
   "pygments_lexer": "ipython3",
   "version": "3.9.13"
  }
 },
 "nbformat": 4,
 "nbformat_minor": 5
}
