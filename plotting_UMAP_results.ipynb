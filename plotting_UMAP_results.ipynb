{
 "cells": [
  {
   "cell_type": "markdown",
   "id": "b9561c7f-b14d-42e5-aac0-9633992bd635",
   "metadata": {},
   "source": [
    "# Plotting UMAP results\n",
    "\n",
    "This JupyterLab is a version of the file to be found on GitHub here:\n",
    "\n",
    "https://github.com/lmcinnes/umap/blob/master/doc/plotting.rst#plotting-umap-results\n",
    "\n",
    "This reproduces: https://umap-learn.readthedocs.io/en/latest/plotting.html\n",
    "\n",
    "UMAP is often used for visualization by reducing data to 2-dimensions. Since this is such a common use case the umap package now includes utility routines to make plotting UMAP results simple, and provide a number of ways to view and diagnose the results. Rather than seeking to provide a comprehensive solution that covers all possible plotting needs this umap extension seeks to provide a simple to use interface to make the majority of plotting needs easy, and help provide sensible plotting choices wherever possible. To get started looking at the plotting options let's load a variety of data to work with."
   ]
  },
  {
   "cell_type": "code",
   "execution_count": 1,
   "id": "e6501e95-c8fe-4543-9b3e-6c73b0577b2d",
   "metadata": {},
   "outputs": [],
   "source": [
    "import sklearn.datasets\n",
    "import pandas as pd\n",
    "import numpy as np\n",
    "import umap"
   ]
  },
  {
   "cell_type": "code",
   "execution_count": null,
   "id": "05b05b0a-9eb3-4477-83fe-7bf0e78ed328",
   "metadata": {},
   "outputs": [
    {
     "name": "stderr",
     "output_type": "stream",
     "text": [
      "C:\\Users\\lazlo\\Anaconda\\lib\\site-packages\\sklearn\\datasets\\_openml.py:968: FutureWarning: The default value of `parser` will change from `'liac-arff'` to `'auto'` in 1.4. You can set `parser='auto'` to silence this warning. Therefore, an `ImportError` will be raised from 1.4 if the dataset is dense and pandas is not installed. Note that the pandas parser may return different data types. See the Notes Section in fetch_openml's API doc for details.\n",
      "  warn(\n"
     ]
    }
   ],
   "source": [
    "pendigits = sklearn.datasets.load_digits()\n",
    "mnist = sklearn.datasets.fetch_openml('mnist_784')\n",
    "fmnist = sklearn.datasets.fetch_openml('Fashion-MNIST')"
   ]
  },
  {
   "cell_type": "markdown",
   "id": "bd905251-5497-4782-b1fb-89897d035ea3",
   "metadata": {},
   "source": [
    "To start we will fit a UMAP model to the pendigits data. This is as simple as running the fit method and assigning the result to a variable."
   ]
  },
  {
   "cell_type": "code",
   "execution_count": null,
   "id": "8a1c1872-346c-4d4e-b215-09887380cfc9",
   "metadata": {},
   "outputs": [],
   "source": [
    "mapper = umap.UMAP().fit(pendigits.data)"
   ]
  },
  {
   "cell_type": "markdown",
   "id": "7cf74e24-7fbd-4dd0-b17c-9eefd3c5a7bc",
   "metadata": {},
   "source": [
    "If we want to do plotting we will need the umap.plot package. While the umap package has a fairly small set of requirements it is worth noting that if you want to using umap.plot you will need a variety of extra libraries that are not in the default requirements for umap. In particular you will need:\n",
    "\n",
    "* matplotlib\n",
    "* pandas\n",
    "* datashader\n",
    "* bokeh\n",
    "* holoviews\n",
    "\n",
    "All should be either pip or conda installable. With those in hand you can import the umap.plot package."
   ]
  },
  {
   "cell_type": "code",
   "execution_count": null,
   "id": "e1c0b00a-9be5-48e0-9ddf-47cb1de371d5",
   "metadata": {},
   "outputs": [],
   "source": [
    "import umap.plot"
   ]
  },
  {
   "cell_type": "markdown",
   "id": "fc185aa6-3be7-4ef7-8fec-c33c0505e38e",
   "metadata": {},
   "source": [
    "Now that we have the package loaded, how do we use it? The most straightforward thing to do is plot the umap results as points. We can achieve this via the function umap.plot.points. In its most basic form you can simply pass the trained UMAP model to umap.plot.points:"
   ]
  },
  {
   "cell_type": "code",
   "execution_count": null,
   "id": "566c7121-4947-423f-8d13-1e28637add67",
   "metadata": {},
   "outputs": [],
   "source": [
    "umap.plot.points(mapper)"
   ]
  },
  {
   "cell_type": "markdown",
   "id": "27aa4691-0919-47a1-a705-6b004beea7b8",
   "metadata": {},
   "source": [
    "As you can see we immediately get a scatterplot of the UMAP embedding. Note that the function automatically selects a point-size based on the data density, and watermarks the image with the UMAP parameters that were used (this will include the metric if it is non-standard). The function also returns the matplotlib axes object associated to the plot, so further matplotlib functions, such as adding titles, axis labels etc. can be applied by the user if required.\n",
    "\n",
    "It is common for data passed to UMAP to have an associated set of labels, which may have been derived from ground-truth, from clustering, or via other means. In such cases it is desirable to be able to color the scatterplot according to the labelling. We can do this by simply passing the array of label information in with the labels keyword. The umap.plot.points function will color the data with a categorical colormap according to the labels provided."
   ]
  },
  {
   "cell_type": "code",
   "execution_count": null,
   "id": "36151b78-f343-4a04-b7c6-9de76bde7edb",
   "metadata": {},
   "outputs": [],
   "source": [
    "umap.plot.points(mapper, labels=pendigits.target)"
   ]
  },
  {
   "cell_type": "markdown",
   "id": "b772b0ec-78b6-4160-8845-2690bec419d4",
   "metadata": {},
   "source": [
    "Alternatively you may have extra data that is continuous rather than categorical. In this case you will want to use a continuous colormap to shade the data. Again this is straightforward to do -- pass in the continuous data with the values keyword and data will be colored accordingly using a continuous colormap.\n",
    "\n",
    "Furthermore, if you don't like the default color choices the umap.plot.points function offers a number of 'themes' that provide predefined color choices. Themes include:\n",
    "\n",
    "* fire\n",
    "* viridis\n",
    "* inferno\n",
    "* blue\n",
    "* red\n",
    "* green\n",
    "* darkblue\n",
    "* darkred\n",
    "* darkgreen\n",
    "\n",
    "Here we will make use of the 'fire' theme to demonstrate how simple it is to change the aesthetics."
   ]
  },
  {
   "cell_type": "code",
   "execution_count": null,
   "id": "46c82d2a-ecaf-4cda-be46-d568906b3a5c",
   "metadata": {},
   "outputs": [],
   "source": [
    "umap.plot.points(mapper, values=pendigits.data.mean(axis=1), theme='fire')"
   ]
  },
  {
   "cell_type": "markdown",
   "id": "4432323b-f595-49d2-b51e-5942d66a39d4",
   "metadata": {},
   "source": [
    "If you want greater control you can specify exact colormaps and background colors. For example here we want to color the data by label, but use a black background and use the 'Paired' colormap for the categorical coloring (passed as color_key_cmap; the cmap keyword defines the continuous colormap)."
   ]
  },
  {
   "cell_type": "code",
   "execution_count": null,
   "id": "6739f6f2-43cc-43cd-8ace-b5a2647350e7",
   "metadata": {},
   "outputs": [],
   "source": [
    "umap.plot.points(mapper, labels=pendigits.target, color_key_cmap='Paired', background='black')"
   ]
  },
  {
   "cell_type": "markdown",
   "id": "417a3184-af99-4912-9bbb-3b4b39beb7ea",
   "metadata": {},
   "source": [
    "Many more options are available including a color_key to specify a dictionary mapping of discrete labels to colors, cmap to specify the continous colormap, or the width and height of the resulting plot. Again, this does not provide comprehensive control of the plot aesthetics, but the goal here is to provide a simple to use interface rather than the ability for the user to fine tune all aspects -- users seeking such control are far better served making use of the individual underlying packages (matplotlib, datashader, and bokeh) by themselves."
   ]
  },
  {
   "cell_type": "markdown",
   "id": "b7361380-652b-4d1f-b9d3-1c4b196c8ac1",
   "metadata": {},
   "source": [
    "## Plotting larger datasets\n",
    "\n",
    "Once you have a lot of data it becomes easier for a simple scatter plot to lie to you. Most notably overplotting, where markers for points overlap and pile up on top of each other, can deceive you into thinking that extremely dense clumps may only contain a few points. While there are things that can be done to help remedy this, such as reducing the point size, or adding an alpha channel, few are sufficient to be sure the plot isn't subtly lying to you in some way. This essay in the datashader documentation does an excellent job of describing the issues with overplotting, why the obvious solutions are not quite sufficient, and how to get around the problem. To make life easier for users the umap.plot package will automatically switch to using datashader for rendering once your dataset gets large enough. This helps to ensure you don't get fooled by overplotting. We can see this in action by working with one of the larger datasets such as Fashion-MNIST.\n",
    "\n",
    "Here's summary information about Fashion-MNIST from Kaggle:\n",
    "\n",
    "https://www.kaggle.com/datasets/zalando-research/fashionmnist"
   ]
  },
  {
   "cell_type": "code",
   "execution_count": null,
   "id": "eb2b2ed2-7ecd-4b73-a76a-b5c9bd7c7e3e",
   "metadata": {},
   "outputs": [],
   "source": [
    "mapper = umap.UMAP().fit(fmnist.data)"
   ]
  },
  {
   "cell_type": "markdown",
   "id": "8607a9b0-be96-4e84-853f-370ce4477960",
   "metadata": {},
   "source": [
    "Having fit the data with UMAP we can call umap.plot.points exactly as before, but this time, since the data is large enough to have potential overplotting, datashader will be used in the background for rendering."
   ]
  },
  {
   "cell_type": "code",
   "execution_count": null,
   "id": "81c7860b-7fd7-402c-b52d-ed0cd4f00f9e",
   "metadata": {},
   "outputs": [],
   "source": [
    "umap.plot.points(mapper)"
   ]
  },
  {
   "cell_type": "markdown",
   "id": "6a93d46e-5812-4747-a22c-63ab329e6f6c",
   "metadata": {},
   "source": [
    "All the same plot options as before hold, so we can color by labels, and apply the same themes, and it will all seamlessly use datashader for the actual rendering. Thus, regardless of how much data you have umap.plot.points will render it well with a transparent user interface. You, as a user, don't need to worry about switching to plotting with datashader, or how to convert your plotting to its slightly different API -- you can just use the same API and trust the results you get."
   ]
  },
  {
   "cell_type": "code",
   "execution_count": null,
   "id": "23094755-8dd0-4095-a13c-9d6f841ee821",
   "metadata": {},
   "outputs": [],
   "source": [
    "umap.plot.points(mapper, labels=fmnist.target, theme='fire')"
   ]
  },
  {
   "cell_type": "markdown",
   "id": "1dbf0b61-7379-4bcb-890f-9614cca9973e",
   "metadata": {},
   "source": [
    "## Interactive plotting, and hover tools\n",
    "\n",
    "Rendering good looking static plots is important, but what if you want to be able to interact with your data -- pan around, and zoom in on the clusters to see the finer structure? What if you want to annotate your data with more complex labels than merely colors? Wouldn't it be good to be able to hover over data points and get more information about the individual point? Since this is a very common use case umap.plot tries to make it easy to quickly generate such plots, and provide basic utilities to allow you to have annotated hover tools working quickly. Again, the goal is not to provide a comprehensive solution that can do everything, but rather a simple to use and consistent API to get users up and running fast.\n",
    "\n",
    "To make a good example of this let's use a subset of the Fashion MNIST dataset. We can quickly train a new mapper object on that."
   ]
  },
  {
   "cell_type": "code",
   "execution_count": null,
   "id": "2894c4bb-4467-4fb1-a189-65a0fb59a4ab",
   "metadata": {},
   "outputs": [],
   "source": [
    "mapper = umap.UMAP().fit(fmnist.data[:30000])"
   ]
  },
  {
   "cell_type": "markdown",
   "id": "ac9e7fe4-7d73-4316-ac72-b503b60e4e67",
   "metadata": {},
   "source": [
    "The goal is to be able to hover over different points and see data associated with the given point (or points) under the cursor. For this simple demonstration we'll just use the target information of the point. To create hover information you need to construct a dataframe of all the data you would like to appear in the hover. Each row should correspond to a source of data points (appearing in the same order), and the columns can provide whatever extra data you would like to display in the hover tooltip. In this case we'll need a dataframe that can include the index of the point, its target number, and the actual name of the type of fashion item that target corresponds to. This is easy to quickly put together using pandas."
   ]
  },
  {
   "cell_type": "code",
   "execution_count": null,
   "id": "09568fe6-3e59-4217-b48b-557f76959de4",
   "metadata": {},
   "outputs": [],
   "source": [
    "hover_data = pd.DataFrame({'index':np.arange(30000),\n",
    "                           'label':fmnist.target[:30000]})\n",
    "hover_data['item'] = hover_data.label.map(\n",
    "    {\n",
    "        '0':'T-shirt/top',\n",
    "        '1':'Trouser',\n",
    "        '2':'Pullover',\n",
    "        '3':'Dress',\n",
    "        '4':'Coat',\n",
    "        '5':'Sandal',\n",
    "        '6':'Shirt',\n",
    "        '7':'Sneaker',\n",
    "        '8':'Bag',\n",
    "        '9':'Ankle Boot',\n",
    "    }\n",
    ")"
   ]
  },
  {
   "cell_type": "markdown",
   "id": "3da1c862-2954-4347-8ed3-f440f8504a5b",
   "metadata": {},
   "source": [
    "For interactive use the umap.plot package makes use of bokeh. Bokeh has several output methods, but in the approach we'll be outputting inline in a notebook. We have to enable this using the output_notebook function. Alteratively we could use output_file or other similar options -- see the bokeh documentation for more details."
   ]
  },
  {
   "cell_type": "code",
   "execution_count": null,
   "id": "e09d235a-5dce-412a-9765-b2afc64c3716",
   "metadata": {},
   "outputs": [],
   "source": [
    "umap.plot.output_notebook()"
   ]
  },
  {
   "cell_type": "markdown",
   "id": "3cee87f8-e9e3-4bed-aa23-ba142dbfa18d",
   "metadata": {},
   "source": [
    "Now we can make an interactive plot using umap.plot.interactive. This has a very similar API to the umap.plot.points approach, but also supports a hover_data keyword which, if passed a suitable dataframe, will provide hover tooltips in the interactive plot. Since bokeh allows different outputs, to display it in the notebook we will have to take the extra stop of calling show on the result."
   ]
  },
  {
   "cell_type": "code",
   "execution_count": null,
   "id": "a10e9ca0-a6e7-4f54-be7f-3a39fd758131",
   "metadata": {},
   "outputs": [],
   "source": [
    "p = umap.plot.interactive(mapper, labels=fmnist.target[:30000], hover_data=hover_data, point_size=2)\n",
    "umap.plot.show(p)"
   ]
  },
  {
   "cell_type": "markdown",
   "id": "4a42de01-7141-4f17-aa13-55b74437ae34",
   "metadata": {},
   "source": [
    "We get the sort of result one would like -- a fully interactive plot that can be zoomed in on, and more, but we also now have an interactive hover tool which presents the data from the dataframe we constructed. This allows a quick and easy method to get up and running with a richer interactive exploration of your UMAP plot. umap.plot.interactive supports all the same aesthetic parameters as umap.plot.points so you can theme your plot, color by label or value, and other similar operations explained above for umap.plot.points.\n",
    "Plotting connectivity\n",
    "\n",
    "UMAP works by constructing an intermediate topological representation of the approximate manifold the data may have been sampled from. In practice this structure can be simplified down to a weighted graph. Sometimes it can be beneficial to see how that graph (representing connectivity in the manifold) looks with respect to the resulting embedding. It can be used to better understand the embedding, and for diagnostic purposes. To see the connectivity you can use the umap.plot.connectivity function. It works very similarly to the umap.plot.points function, and has the option as to whether to display the embedding point, or just the connectivity. To start let's do a simple plot showing the points:"
   ]
  },
  {
   "cell_type": "code",
   "execution_count": null,
   "id": "a18bcd1b-ae4b-4966-af95-a5bdc4628142",
   "metadata": {},
   "outputs": [],
   "source": [
    "umap.plot.connectivity(mapper, show_points=True)"
   ]
  },
  {
   "cell_type": "markdown",
   "id": "310ce4e3-bb9d-4807-b86b-7be65151b5ff",
   "metadata": {},
   "source": [
    "As with umap.plot.points there are options to control the basic aesthetics, including theme options and an edge_cmap keyword argument to specify the colormap used for displaying the edges.\n",
    "\n",
    "Since this approach already leverages datashader for edge plotting, we can go a step further and make use of the edge-bundling options available in datashader. This can provide a less busy view of connectivity, but can be expensive to compute, particularly for larger datasets.\n",
    "\n",
    "(I scrapped the following plot after 15 minutes without an output.)"
   ]
  },
  {
   "cell_type": "code",
   "execution_count": null,
   "id": "9580bed2-f0ce-4a90-a14c-24079b5a9066",
   "metadata": {},
   "outputs": [],
   "source": [
    "#umap.plot.connectivity(mapper, edge_bundling='hammer')"
   ]
  },
  {
   "cell_type": "markdown",
   "id": "f07871d3-6d58-44e0-9c99-71a1ad02bc98",
   "metadata": {},
   "source": [
    "## Diagnostic plotting\n",
    "\n",
    "Plotting the connectivity provides at least one basic diagnostic view that helps a user understand what is going on with an embedding. More views on data are better, of course, so umap.plot includes a umap.plot.diagnostic function that can provide various diagnostic plots. We'll look at a few of them here. To do so we'll use the full MNIST digits data set."
   ]
  },
  {
   "cell_type": "code",
   "execution_count": null,
   "id": "cb6c0f24-2f90-4caa-9cac-792f2176c3ec",
   "metadata": {},
   "outputs": [],
   "source": [
    "mapper = umap.UMAP().fit(mnist.data)"
   ]
  },
  {
   "cell_type": "markdown",
   "id": "6faacfbb-19df-41fa-bd3d-0b1b54d92ec1",
   "metadata": {},
   "source": [
    "The first diagnostic type is a Principal Components Analysis based diagnostic, which you can select with diagnostic_type='pca'. The essence of the approach is that we can use PCA, which preserves global structure, to reduce the data to three dimensions. If we scale the results to fit in a 3D cube we can convert the 3D PCA coordinates of each point into an RGB description of a color. By then coloring the points in the UMAP embedding with the colors induced by the PCA it is possible to get a sense of how some of the more large scale global structure has been represented in the embedding."
   ]
  },
  {
   "cell_type": "code",
   "execution_count": null,
   "id": "1bb6574a-f1f3-4469-a3a8-aff5e1fe9640",
   "metadata": {},
   "outputs": [],
   "source": [
    "umap.plot.diagnostic(mapper, diagnostic_type='pca')"
   ]
  },
  {
   "cell_type": "markdown",
   "id": "02de1ab9-54af-41f6-81c6-513b2d012c4c",
   "metadata": {},
   "source": [
    "What we are looking for here is a generally smooth transition of colors, and an overall layout that broadly respects the color transitions. In this case the far left has a bottom cluster that transitions from dark green at the bottom to blue at the top, and this matches well with the cluster in the upper right which have a similar shade of blue at the bottom before transitioning to more cyan and blue. In contast in the right of the plot the lower cluster runs from purplish pink to green from top to bottom, while the cluster above it has its bottom edge more purple than green, suggesting that perhaps one or the other of these clusters has been flipped vertically during the optimization process, and this was never quite corrected.\n",
    "\n",
    "An alternative, but similar, approach is to use vector quantization as the method to generate a 3D embedding to generate colors. Vector quantization effectively finds 3 representative centers for the data, and then describes each data point in terms of its distance to these centers. Clearly this, again, captures a lot of the broad global structure of the data."
   ]
  },
  {
   "cell_type": "code",
   "execution_count": null,
   "id": "4a8084f0-af32-484b-84e9-44ffba5465ce",
   "metadata": {},
   "outputs": [],
   "source": [
    "umap.plot.diagnostic(mapper, diagnostic_type='vq')"
   ]
  },
  {
   "cell_type": "markdown",
   "id": "3d4c8dcf-b298-4be5-8b7e-1b414a8095eb",
   "metadata": {},
   "source": [
    "Again we are looking for largely smooth transitions, and for related colors to match up between clusters. This view supports the fact that the left hand side of the embedding has worked well, but looking at the right hand side it seems clear that it is the upper two of the clusters that has been inadvertently flipped vertically. By contrasting views like this one can get a better sense of how well the embedding is working.\n",
    "\n",
    "For a different perspective we can look at approximations of the local dimension around each data point. Ideally the local dimension should match the embedding dimension (although this is often a lot to hope for. In practice when the local dimension is high this represents points (or areas of the space) that UMAP will have a harder time embedding as well. Thus one can trust the embedding to be more accurate in regions where the points have consistently lower local dimension."
   ]
  },
  {
   "cell_type": "code",
   "execution_count": null,
   "id": "f977e3fe-4d7c-48fe-95a6-9f4cda856127",
   "metadata": {},
   "outputs": [],
   "source": [
    "local_dims = umap.plot.diagnostic(mapper, diagnostic_type='local_dim')"
   ]
  },
  {
   "cell_type": "markdown",
   "id": "e0f2815a-ff82-4a77-b773-b90e1520078c",
   "metadata": {},
   "source": [
    "As you can see, the local dimension of the data varies quite widely across the data. In particular the lower left cluster has the lowest local dimension -- this is actually unsurprising as this is the cluster corresponding to the digits 1: there are relatively few degrees of freedom over how a person draws a number one, and so the resulting local dimension is lower. In contrast the clusters in the middle have a much higher local dimension. We should expect the embedidng to be a little less accurate in these regions: it is hard to represent seven dimensional data well in only two dimensions, and compromises will need to be made.\n",
    "\n",
    "The final diagnostic we'll look at is how well local neighborhoods are preserved. We can measure this in terms of the Jaccard index of the local neighborhood in the high dimensional space compared to the equivalent neighborhood in the embedding. The Jaccard index is essentially the ratio of the number of neighbors that the two neighborhoods have in common over the total number of unique neighbors across the two neighborhoods. Higher values mean that the local neighborhood has been more accurately preserved.\n",
    "\n",
    "(The following did not run for me.)"
   ]
  },
  {
   "cell_type": "code",
   "execution_count": null,
   "id": "46371ce5-a886-457d-893c-e5acb44a5177",
   "metadata": {},
   "outputs": [],
   "source": [
    "umap.plot.diagnostic(mapper, diagnostic_type='neighborhood')"
   ]
  },
  {
   "cell_type": "markdown",
   "id": "ae7f3b73-43e9-4821-939a-7afd6b528536",
   "metadata": {},
   "source": [
    "As one might expect the local neighborhood preservation tends to be a lot better for those points that had a lower local dimension (as seen in the last plot). There is also a tendency for the edges of clusters (where there were clear boundaries to be followed) to have a better preservation of neighborhoods than the centers of the clusters that had higher local dimension. Again, this provides a view on which areas of the embedding you can have greater trust in, and which r"
   ]
  },
  {
   "cell_type": "code",
   "execution_count": null,
   "id": "be2e5c12-e690-4bd9-85f7-8673ddbc7e55",
   "metadata": {},
   "outputs": [],
   "source": []
  }
 ],
 "metadata": {
  "kernelspec": {
   "display_name": "Python 3 (ipykernel)",
   "language": "python",
   "name": "python3"
  },
  "language_info": {
   "codemirror_mode": {
    "name": "ipython",
    "version": 3
   },
   "file_extension": ".py",
   "mimetype": "text/x-python",
   "name": "python",
   "nbconvert_exporter": "python",
   "pygments_lexer": "ipython3",
   "version": "3.9.13"
  }
 },
 "nbformat": 4,
 "nbformat_minor": 5
}
