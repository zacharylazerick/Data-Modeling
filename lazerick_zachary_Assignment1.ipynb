{
 "cells": [
  {
   "cell_type": "markdown",
   "id": "5eb16d79-8041-4a4a-b640-81a3518471cf",
   "metadata": {},
   "source": [
    "# Assignment 1 Due Friday, February 3.\n",
    "\n",
    "Your code solutions to these problems should be included\n",
    "in this JupyterLab. Change the name of the worksheet to\n",
    "\n",
    "lastname_firstname_Assignment1.ipynb\n",
    "\n",
    "Please submit your solutions by uploading them to Canvas.\n",
    "\n",
    "Do the problems in order since later ones use the earlier ones.\n",
    "\n",
    "If you have any questions, see me in office hours or e-mail\n",
    "your question, with your .ipynb file as an attachment.\n",
    "\n",
    "Your solutions should use the function names provided in the problems.\n",
    "In addition to your code for each function, you should include several \n",
    "applications of your function.\n",
    "\n",
    "Also, you might find this link useful. It contains the naming conventions fo Python variables and functions:\n",
    "\n",
    "https://pythonguides.com/python-naming-conventions/"
   ]
  },
  {
   "cell_type": "markdown",
   "id": "6535539c-01e9-41d6-a40b-72311b8f7944",
   "metadata": {},
   "source": [
    "## 1(a)\n",
    "Let $T$ be the filled-in triangle whose vertices are the point $A = [0,0]$,\n",
    "$B = [1,0]$, and $C = [0,1]$. $T$ includes the three sides of the triangle\n",
    "as well. Write a function called *in_triangle*\n",
    "\n",
    "* whose input is an ordered pair $[x,y]$ of floating point numbers\n",
    "* that first checks that $x$ and $y$ are floating point numbers\n",
    "    * if either $x$ or $y$ are not floating point numbers, it prints \n",
    "     which or both are not and ends \n",
    "    * if both are floating point numbers, it determines whether $[x,y]$\n",
    "     is an element of $T$ and prints whether $[x,y]$ is an element of $T$\n",
    "     or not\n",
    "     "
   ]
  },
  {
   "cell_type": "code",
   "execution_count": 1,
   "id": "370f1dc1",
   "metadata": {
    "scrolled": false
   },
   "outputs": [],
   "source": [
    "def in_triangle(tuple1):\n",
    "    \n",
    "    # Assign elements of tuple to variables\n",
    "    x = tuple1[0]\n",
    "    y = tuple1[1]\n",
    "    \n",
    "    # Check if either or both of the elements are floats\n",
    "    if (type(x) != float) & (type(y) != float):\n",
    "        print(x, \"and\", y, \"are not floating point numbers.\")\n",
    "    elif (type(x) != float):\n",
    "        print(x, \"is not a floating point number.\")\n",
    "    elif (type(y) != float):\n",
    "        print(y, \"is not a floating point number.\")\n",
    "    \n",
    "    # If not, check whether in triangle\n",
    "    else:\n",
    "        # Hypotenuse of T\n",
    "        z = 1 - x\n",
    "        # Check if tuple in T\n",
    "        if (x >= 0 and x <= 1) and (y <= z):\n",
    "            print(tuple1, \"is in T.\")\n",
    "        else:\n",
    "            print(tuple1, \"is not in T.\")"
   ]
  },
  {
   "cell_type": "code",
   "execution_count": 2,
   "id": "13734047",
   "metadata": {},
   "outputs": [
    {
     "name": "stdout",
     "output_type": "stream",
     "text": [
      "2 and 1 are not floating point numbers.\n"
     ]
    }
   ],
   "source": [
    "in_triangle((2, 1))"
   ]
  },
  {
   "cell_type": "code",
   "execution_count": 3,
   "id": "aae67d6c",
   "metadata": {},
   "outputs": [
    {
     "name": "stdout",
     "output_type": "stream",
     "text": [
      "2 is not a floating point number.\n"
     ]
    }
   ],
   "source": [
    "in_triangle((2, 1.0))"
   ]
  },
  {
   "cell_type": "code",
   "execution_count": 4,
   "id": "75cb20c7",
   "metadata": {},
   "outputs": [
    {
     "name": "stdout",
     "output_type": "stream",
     "text": [
      "1 is not a floating point number.\n"
     ]
    }
   ],
   "source": [
    "in_triangle((2.0, 1))"
   ]
  },
  {
   "cell_type": "code",
   "execution_count": 5,
   "id": "4683b399",
   "metadata": {},
   "outputs": [
    {
     "name": "stdout",
     "output_type": "stream",
     "text": [
      "(2.0, 1.0) is not in T.\n"
     ]
    }
   ],
   "source": [
    "in_triangle((2.0, 1.0))"
   ]
  },
  {
   "cell_type": "code",
   "execution_count": 6,
   "id": "a16d7662",
   "metadata": {},
   "outputs": [
    {
     "name": "stdout",
     "output_type": "stream",
     "text": [
      "(0.5, 0.5) is in T.\n"
     ]
    }
   ],
   "source": [
    "in_triangle((0.5, 0.5))"
   ]
  },
  {
   "cell_type": "markdown",
   "id": "ad652f50-5879-403b-bebd-b0343213ca95",
   "metadata": {},
   "source": [
    " ## 1(b) \n",
    " \n",
    "Construct a second function called *points_in_triangle* whose input\n",
    "is a list of ordered pairs:\n",
    " \n",
    "$L = [[x_1,y_1], [x_2,y_2], ... , [x_k,y_k]]$\n",
    "\n",
    "Using a for loop that applies *in_triangle* to each of the ordered\n",
    "pairs in $L$, it determines which ones consist of floating point numbers\n",
    "and which of these are in $T$ and prints the result for each pair.\n",
    "\n",
    "Note: The length of an a list is the about of the function *len( )*.\n",
    "So *len(L)* is the number of ordered pairs in $L$. You'll need this \n",
    "to determine how many iterations are needed in the loop."
   ]
  },
  {
   "cell_type": "code",
   "execution_count": 7,
   "id": "8ca82249",
   "metadata": {
    "scrolled": true
   },
   "outputs": [],
   "source": [
    "def points_in_triangle(list1):\n",
    "    # Iterate for each tuple in list\n",
    "    for tuple1 in list1:\n",
    "        # Run in_triangle for each tuple\n",
    "        in_triangle(tuple1)"
   ]
  },
  {
   "cell_type": "code",
   "execution_count": 8,
   "id": "9bd62dff",
   "metadata": {},
   "outputs": [
    {
     "name": "stdout",
     "output_type": "stream",
     "text": [
      "2 and 1 are not floating point numbers.\n",
      "0 is not a floating point number.\n",
      "1 is not a floating point number.\n",
      "(2.0, 1.0) is not in T.\n",
      "(0.5, 0.5) is in T.\n"
     ]
    }
   ],
   "source": [
    "nest_tup = (2, 1), (1.0, 0), (1, 0.0), (2.0, 1.0), (.5, .5); point_list = list(nest_tup); points_in_triangle(point_list)"
   ]
  },
  {
   "cell_type": "markdown",
   "id": "0ca3f728-b384-43cd-bba1-e2e92248d360",
   "metadata": {},
   "source": [
    "## 2 \n",
    "\n",
    "Write a function called *list_num_check* \n",
    "\n",
    "* with a single input x that\n",
    "    * checks whether x is a list, and if x is a list  \n",
    "    * checks in order whether an entry of x is a float or int\n",
    "* and prints \n",
    "    * whether x is not a list or not\n",
    "    * if it is a list whether the entries are int or float and if not,\n",
    "     the first entry that is not an int or float"
   ]
  },
  {
   "cell_type": "code",
   "execution_count": 9,
   "id": "6f68e414",
   "metadata": {
    "scrolled": true
   },
   "outputs": [],
   "source": [
    "def list_num_check(x):\n",
    "    \n",
    "    # Check if list\n",
    "    if (type(x) == list):\n",
    "        \n",
    "        # Check if each entry is an int or float\n",
    "        for entry in x:\n",
    "            if (type(entry) != int) and (type(entry) != float):\n",
    "                print(entry, \"is not an int or float.\")\n",
    "                return(False)\n",
    "                \n",
    "        # If all elements are ints and floats, say so\n",
    "        print(x, \"is a list of ints and floats.\")\n",
    "        return(True)\n",
    "    \n",
    "    else:\n",
    "        print(x, \"is not a list.\")\n",
    "        return(False)"
   ]
  },
  {
   "cell_type": "code",
   "execution_count": 10,
   "id": "d64021b9",
   "metadata": {},
   "outputs": [
    {
     "name": "stdout",
     "output_type": "stream",
     "text": [
      "[1, 1.5, 2] is a list of ints and floats.\n"
     ]
    },
    {
     "data": {
      "text/plain": [
       "True"
      ]
     },
     "execution_count": 10,
     "metadata": {},
     "output_type": "execute_result"
    }
   ],
   "source": [
    "test_list_1 = [1, 1.5, 2]; list_num_check(test_list_1)"
   ]
  },
  {
   "cell_type": "code",
   "execution_count": 11,
   "id": "3c80d4c9",
   "metadata": {},
   "outputs": [
    {
     "name": "stdout",
     "output_type": "stream",
     "text": [
      "cat is not an int or float.\n"
     ]
    }
   ],
   "source": [
    "test_list_2 = [2.0, 5, 'cat']; list_num_check(test_list_2)"
   ]
  },
  {
   "cell_type": "code",
   "execution_count": 12,
   "id": "a65e489d",
   "metadata": {},
   "outputs": [
    {
     "name": "stdout",
     "output_type": "stream",
     "text": [
      "(2, 5, 9) is not a list.\n"
     ]
    },
    {
     "data": {
      "text/plain": [
       "False"
      ]
     },
     "execution_count": 12,
     "metadata": {},
     "output_type": "execute_result"
    }
   ],
   "source": [
    "test_list_3 = (2, 5, 9); list_num_check(test_list_3)"
   ]
  },
  {
   "cell_type": "markdown",
   "id": "748b9782-4944-4914-ba14-7f0291e401cf",
   "metadata": {},
   "source": [
    "## 3.\n",
    "\n",
    "Given two distinct points in the plane, $p = [x_1,y_1]$ and $ q = [x_2,y_2]$, there are \n",
    "two possibilities for the formula for the line through them.\n",
    "\n",
    "* If the line is not vertical, so $x_1 \\neq x_2$, the formula for the line\n",
    "can be written in slope-intercept form $y = mx + b$, where $m$ and $b$ are constants. \n",
    "* If the line is vertical, so $x_1 = x_2$, the formula for the line is $x = c$ where $c$ is a constant.\n",
    "\n",
    "## 3(a) \n",
    "\n",
    "Write a function called *line_form* \n",
    "\n",
    "* whose input is two ordered pairs $p$ and $q$ and\n",
    "    * uses *list_num_check* to check that $p$ and $q$ are \n",
    "  lists of floats or ints \n",
    "    * checks that $p$ and $q$ are lists of length 2\n",
    "    * checks that $p \\neq q$ \n",
    "    * if any of the conditions are not met, it prints a message to\n",
    "    that effect\n",
    "* if all of the conditions are met the function determines whether the line is vertical or not by checking first coordinates, then\n",
    "    * if the line is vertical, it returns the value $c$ of the $x$-intercept, it prints that the line is vertical and gives\n",
    "    the formula \n",
    "    * if it is not vertical, it computes the formula, returns the slope and \n",
    "    intercept values, prints that the \n",
    "    line is not vertical and gives the formula"
   ]
  },
  {
   "cell_type": "code",
   "execution_count": 13,
   "id": "b4a0256b",
   "metadata": {
    "scrolled": true
   },
   "outputs": [],
   "source": [
    "def line_form(list_p, list_q):\n",
    "    \n",
    "    # Check initial conditions\n",
    "    if (not list_num_check(list_p)) or (not list_num_check(list_q)):\n",
    "        print(\"Error: At least one of P or Q is an invalid list.\")\n",
    "        return(False)\n",
    "    if (len(list_p) != 2) or (len(list_q) != 2):\n",
    "        print(\"Error: At least one of P or Q is not an ordered pair.\")\n",
    "        return(False)\n",
    "    if (list_p == list_q):\n",
    "        print(\"Error: P and Q are the same point, so no line can be calculated.\")\n",
    "        return(False)\n",
    "    \n",
    "    # Check if line is vertical\n",
    "    if (list_p[0] == list_q[0]):\n",
    "        print(\"The line between points\", list_p, \"and\", list_q, \"is x =\", list_p[0])\n",
    "        return_list = [True, list_p[0]]\n",
    "        return(return_list)\n",
    "    \n",
    "    # If not vertical\n",
    "    else:\n",
    "        m = (list_q[1] - list_p[1]) / (list_q[0] - list_p[0])\n",
    "        b = list_p[1] - (m * list_p[0])\n",
    "        print(\"The line between points\", list_p, \"and\", list_q, \"is y =\", m, \"x + \", b)\n",
    "        return_list = [True, m, b]\n",
    "        return(return_list)"
   ]
  },
  {
   "cell_type": "code",
   "execution_count": 14,
   "id": "c11c8119",
   "metadata": {},
   "outputs": [
    {
     "name": "stdout",
     "output_type": "stream",
     "text": [
      "[2, 5] is a list of ints and floats.\n",
      "[4, 7] is a list of ints and floats.\n",
      "The line between points [2, 5] and [4, 7] is y = 1.0 x +  3.0\n"
     ]
    },
    {
     "data": {
      "text/plain": [
       "[True, 1.0, 3.0]"
      ]
     },
     "execution_count": 14,
     "metadata": {},
     "output_type": "execute_result"
    }
   ],
   "source": [
    "tup_p = (2, 5); p = list(tup_p); tup_q = (4, 7); q = list(tup_q); line_form(p, q)"
   ]
  },
  {
   "cell_type": "code",
   "execution_count": 15,
   "id": "9c0c41fa",
   "metadata": {},
   "outputs": [
    {
     "name": "stdout",
     "output_type": "stream",
     "text": [
      "[2, 5] is a list of ints and floats.\n",
      "[2, 7] is a list of ints and floats.\n",
      "The line between points [2, 5] and [2, 7] is x = 2\n"
     ]
    },
    {
     "data": {
      "text/plain": [
       "[True, 2]"
      ]
     },
     "execution_count": 15,
     "metadata": {},
     "output_type": "execute_result"
    }
   ],
   "source": [
    "tup_p = (2, 5); p = list(tup_p); tup_q = (2, 7); q = list(tup_q); line_form(p, q)"
   ]
  },
  {
   "cell_type": "code",
   "execution_count": 16,
   "id": "1d7cabb4",
   "metadata": {},
   "outputs": [
    {
     "name": "stdout",
     "output_type": "stream",
     "text": [
      "cat is not an int or float.\n",
      "Error: At least one of P or Q is an invalid list.\n"
     ]
    },
    {
     "data": {
      "text/plain": [
       "False"
      ]
     },
     "execution_count": 16,
     "metadata": {},
     "output_type": "execute_result"
    }
   ],
   "source": [
    "tup_p = ('cat', 5); p = list(tup_p); tup_q = (2, 7); q = list(tup_q); line_form(p, q)"
   ]
  },
  {
   "cell_type": "code",
   "execution_count": 17,
   "id": "819b087d",
   "metadata": {},
   "outputs": [
    {
     "name": "stdout",
     "output_type": "stream",
     "text": [
      "[2, 4, 5] is a list of ints and floats.\n",
      "[2, 7] is a list of ints and floats.\n",
      "Error: At least one of P or Q is not an ordered pair.\n"
     ]
    },
    {
     "data": {
      "text/plain": [
       "False"
      ]
     },
     "execution_count": 17,
     "metadata": {},
     "output_type": "execute_result"
    }
   ],
   "source": [
    "tup_p = (2, 4, 5); p = list(tup_p); tup_q = (2, 7); q = list(tup_q); line_form(p, q)"
   ]
  },
  {
   "cell_type": "code",
   "execution_count": 18,
   "id": "d95d688f",
   "metadata": {},
   "outputs": [
    {
     "name": "stdout",
     "output_type": "stream",
     "text": [
      "[2, 5] is a list of ints and floats.\n",
      "[2, 5] is a list of ints and floats.\n",
      "Error: P and Q are the same point, so no line can be calculated.\n"
     ]
    },
    {
     "data": {
      "text/plain": [
       "False"
      ]
     },
     "execution_count": 18,
     "metadata": {},
     "output_type": "execute_result"
    }
   ],
   "source": [
    "tup_p = (2, 5); p = list(tup_p); tup_q = (2, 5); q = list(tup_q); line_form(p, q)"
   ]
  },
  {
   "cell_type": "markdown",
   "id": "84d3f096-c68e-4497-a101-82016fabb9e1",
   "metadata": {},
   "source": [
    "## 3(b) \n",
    "\n",
    "For any three points $p$, $q$, and $r$ where $p$ and $q$ are distinct,\n",
    "there are three possibilities for $r$, it lies on the line through $p$ and $q$,\n",
    "or it is on one side of the line or the other. If the line is vertical, the\n",
    "sides are left and right. If the line is not vertical the sides are above and below.\n",
    "\n",
    "Write a function called *which_side*\n",
    "\n",
    "* whose input is three ordered pairs $p$, $q$, and $r$\n",
    "* uses the function *line_form* to determine if $p$ and $q$ satisfy the\n",
    "conditions for there to be a line through $p$ and $q$ and, then,  \n",
    "* if $r$ is also a 2 element array of ints or floats, determines\n",
    "    * whether $q$ is on the line, to the left of the line or to the\n",
    "    right of the line if the line is vertical, or\n",
    "    * whether $q$ is on the line, above the line, or below the line\n",
    "    if the line is not vertical\n",
    "* outputs whether the line is vertical or not and which side of the line\n",
    "$r$ lies on. "
   ]
  },
  {
   "cell_type": "code",
   "execution_count": 19,
   "id": "e23a590f",
   "metadata": {
    "scrolled": true
   },
   "outputs": [],
   "source": [
    "def which_side(list_p, list_q, list_r):\n",
    "    \n",
    "    # Check validity of p and q\n",
    "    if (line_form(list_p, list_q)[0] == False):\n",
    "        return(\"Error:\", list_p, \"and\", list_q, \"are invalid points.\")\n",
    "    \n",
    "    # Check initial conditions on r\n",
    "    if (not list_num_check(list_r)):\n",
    "        return(\"Error:\", list_r, 'is an invalid list.')\n",
    "    if (len(list_r) != 2):\n",
    "        return(\"Error:\", list_r, \"is not an ordered pair.\")\n",
    "    \n",
    "    # Determine if r on the line\n",
    "    \n",
    "    # If the line through p and q is vertical\n",
    "    if (list_p[0] == list_q[0]):\n",
    "        if (list_r[0] == line_form(list_p, list_q)[1]):\n",
    "            if (((list_r[1] >= list_p[1]) and (list_r[1] <= list_q[1]))) or (((list_r[1] <= list_p[1]) and (list_r[1] >= list_q[1]))):\n",
    "                return(print(\"The line is Vertical.\", list_r, \"is between\", list_p, \"and\", list_q))\n",
    "            elif (list_r[1] >= list_p[1] and list_r[1] >= list_q[1]):\n",
    "                return(print(\"The line is Vertical.\", list_r, \"is above\", list_p, \"and\", list_q))\n",
    "            else:\n",
    "                return(print(\"The line is Vertical.\", list_r, \"is below\", list_p, \"and\", list_q))\n",
    "        else:\n",
    "            return(print(\"The line is Vertical.\", list_r, \"is not on the line.\"))\n",
    "    \n",
    "    # If the line through p and q is not vertical\n",
    "    else:\n",
    "        if (list_r[1] == line_form(list_p, list_q)[1] * list_r[0] + line_form(list_p, list_q)[2]):\n",
    "            if (((list_r[0] >= list_p[0]) and (list_r[0] <= list_q[0]))) or (((list_r[0] <= list_p[0]) and (list_r[0] >= list_q[0]))):\n",
    "                return(print(\"The line is not vertical.\", list_r, \"is between\", list_p, \"and\", list_q))\n",
    "            elif (list_r[0] >= list_p[0] and list_r[0] >= list_q[0]):\n",
    "                return(print(\"The line is not vertical.\", list_r, \"is to the right of\", list_p, \"and\", list_q))\n",
    "            else:\n",
    "                return(print(\"The line is not vertical.\", list_r, \"is to the left of\", list_p, \"and\", list_q))\n",
    "        else:\n",
    "            return(print(\"The line is not vertical.\", list_r, \"is not one the line.\"))"
   ]
  },
  {
   "cell_type": "code",
   "execution_count": 20,
   "id": "56b27e17",
   "metadata": {
    "scrolled": true
   },
   "outputs": [
    {
     "name": "stdout",
     "output_type": "stream",
     "text": [
      "[5, 4] is a list of ints and floats.\n",
      "[7, 8] is a list of ints and floats.\n",
      "The line between points [5, 4] and [7, 8] is y = 2.0 x +  -6.0\n",
      "cat 9 is not an int or float.\n"
     ]
    },
    {
     "data": {
      "text/plain": [
       "('Error:', ['cat 9', 9, 12], 'is an invalid list.')"
      ]
     },
     "execution_count": 20,
     "metadata": {},
     "output_type": "execute_result"
    }
   ],
   "source": [
    "tup_p = (5, 4); list_p = list(tup_p); tup_q = (7, 8); list_q = list(tup_q); tup_r = ('cat 9', 9, 12); list_r = list(tup_r)\n",
    "which_side(list_p, list_q, list_r)"
   ]
  },
  {
   "cell_type": "code",
   "execution_count": 21,
   "id": "e737d96a",
   "metadata": {},
   "outputs": [
    {
     "name": "stdout",
     "output_type": "stream",
     "text": [
      "[5, 4] is a list of ints and floats.\n",
      "[7, 8] is a list of ints and floats.\n",
      "The line between points [5, 4] and [7, 8] is y = 2.0 x +  -6.0\n",
      "[9, 12, 9] is a list of ints and floats.\n"
     ]
    },
    {
     "data": {
      "text/plain": [
       "('Error:', [9, 12, 9], 'is not an ordered pair.')"
      ]
     },
     "execution_count": 21,
     "metadata": {},
     "output_type": "execute_result"
    }
   ],
   "source": [
    "tup_p = (5, 4); list_p = list(tup_p); tup_q = (7, 8); list_q = list(tup_q); tup_r = (9, 12, 9); list_r = list(tup_r)\n",
    "which_side(list_p, list_q, list_r)"
   ]
  },
  {
   "cell_type": "code",
   "execution_count": 22,
   "id": "cc945e50",
   "metadata": {
    "scrolled": false
   },
   "outputs": [
    {
     "name": "stdout",
     "output_type": "stream",
     "text": [
      "[5, 4] is a list of ints and floats.\n",
      "[7, 8] is a list of ints and floats.\n",
      "The line between points [5, 4] and [7, 8] is y = 2.0 x +  -6.0\n",
      "[9, 12] is a list of ints and floats.\n",
      "[5, 4] is a list of ints and floats.\n",
      "[7, 8] is a list of ints and floats.\n",
      "The line between points [5, 4] and [7, 8] is y = 2.0 x +  -6.0\n",
      "[5, 4] is a list of ints and floats.\n",
      "[7, 8] is a list of ints and floats.\n",
      "The line between points [5, 4] and [7, 8] is y = 2.0 x +  -6.0\n",
      "The line is not vertical. [9, 12] is to the right of [5, 4] and [7, 8]\n"
     ]
    }
   ],
   "source": [
    "tup_p = (5, 4); list_p = list(tup_p); tup_q = (7, 8); list_q = list(tup_q); tup_r = (9, 12); list_r = list(tup_r)\n",
    "which_side(list_p, list_q, list_r)"
   ]
  },
  {
   "cell_type": "code",
   "execution_count": 23,
   "id": "89718200",
   "metadata": {
    "scrolled": true
   },
   "outputs": [
    {
     "name": "stdout",
     "output_type": "stream",
     "text": [
      "[5, 4] is a list of ints and floats.\n",
      "[5, 7] is a list of ints and floats.\n",
      "The line between points [5, 4] and [5, 7] is x = 5\n",
      "[5, 6] is a list of ints and floats.\n",
      "[5, 4] is a list of ints and floats.\n",
      "[5, 7] is a list of ints and floats.\n",
      "The line between points [5, 4] and [5, 7] is x = 5\n",
      "The line is Vertical. [5, 6] is between [5, 4] and [5, 7]\n"
     ]
    }
   ],
   "source": [
    "tup_p = (5, 4); list_p = list(tup_p); tup_q = (5, 7); list_q = list(tup_q); tup_r = (5, 6); list_r = list(tup_r)\n",
    "which_side(list_p, list_q, list_r)"
   ]
  }
 ],
 "metadata": {
  "kernelspec": {
   "display_name": "Python 3 (ipykernel)",
   "language": "python",
   "name": "python3"
  },
  "language_info": {
   "codemirror_mode": {
    "name": "ipython",
    "version": 3
   },
   "file_extension": ".py",
   "mimetype": "text/x-python",
   "name": "python",
   "nbconvert_exporter": "python",
   "pygments_lexer": "ipython3",
   "version": "3.9.13"
  }
 },
 "nbformat": 4,
 "nbformat_minor": 5
}
