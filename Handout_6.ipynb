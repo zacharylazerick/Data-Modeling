{
 "cells": [
  {
   "cell_type": "markdown",
   "id": "2fc8aade-9bc4-4a5c-89f0-dc7a0eb481d2",
   "metadata": {},
   "source": [
    "# Handout 6 Not JupyterLab \n",
    "\n",
    "In this lab we'll introduce Spyder, the Scientific Python Development Environment:\n",
    "\n",
    "https://www.spyder-ide.org/\n",
    "\n",
    "We can access this through Acaconda, so it involves no extra work on our part. \n",
    "\n",
    "Like R-Studio and MATLAB, Spyder appears as a stand alone window with several functional\n",
    "panes:\n",
    "    \n",
    "* A text editor for writing Python Code\n",
    "\n",
    "* IPython Console providing a command prompt for the execution of Python commands\n",
    "\n",
    "* History: a history of commands run through the console\n",
    "\n",
    "* Variable Explorer displaying the variables active in the current workspace. These include\n",
    "system and user variables.\n",
    "\n",
    "* Plots where all plots are displayed (unless displayed outside of Spyder by redirecting output)\n",
    "\n",
    "* Files providing a file manager for accessing files and move in your directories\n",
    "\n",
    "* Help (which contains a tutorial\n",
    "        \n",
    "Today we'll demonstrate using functions Spyder\n",
    "        \n",
    "    "
   ]
  },
  {
   "cell_type": "markdown",
   "id": "b6c0b413-0e7c-4757-9e71-8829577e7d3f",
   "metadata": {},
   "source": [
    "## Which side in Spyder\n",
    "\n",
    "Most people wrote three functions for the first assignment. Let's move them to Spyder.\n",
    "\n",
    "* Open Spyder in Anaconda (you should see a file called *untitled1.py*\n",
    "                           \n",
    "* From your first Juypter assignment, copy and paste your three functions into untitled1.py\n",
    "                           \n",
    "* Be carefull that the indenting carries over correctly\n",
    "                           \n",
    "* Save the file with a name like *which_side*. You should see that file appear in your current folder\n",
    "                           \n",
    "* Run your file by selecting the right arrow (triangle) at the top of the editor, or selecting Run from the\n",
    "drop down menu in the File manager associated with the file\n",
    "                           \n",
    "* Run your Python function from the command line\n",
    "                           "
   ]
  },
  {
   "cell_type": "markdown",
   "id": "71d19604-07cd-4d9e-9a1b-f3af48a6645d",
   "metadata": {},
   "source": [
    "## Plotting in Spyder\n",
    "\n",
    "Today, in order to become familiar with Spyder, you should survey some of the many\n",
    "plot types in Matplotlib. These can be found in the Gallery of plots:\n",
    "    \n",
    "https://matplotlib.org/stable/gallery/index.html\n",
    "\n",
    "We'll start with scatter plots:"
   ]
  },
  {
   "cell_type": "markdown",
   "id": "8899e141-9d3c-4008-b903-36dc397781fb",
   "metadata": {},
   "source": [
    "## 2D Scatter plots:\n",
    "\n",
    "Here are two version of the 2D scatter plot:\n",
    "\n",
    "https://matplotlib.org/stable/gallery/lines_bars_and_markers/scatter_demo2.html#sphx-glr-gallery-lines-bars-and-markers-scatter-demo2-py\n",
    "\n",
    "https://matplotlib.org/stable/gallery/lines_bars_and_markers/scatter_with_legend.html#sphx-glr-gallery-lines-bars-and-markers-scatter-with-legend-py\n",
    "\n",
    "Both generate random points and color them randomly. Here is a useful exercise:\n",
    "    \n",
    "### Color coding scatter plots:\n",
    "\n",
    "Suppose that X is an *n x 2*  array of integers or float representing coordinates of \n",
    "points in the plane. Suppose they are arranged in groups or clusters according to \n",
    "non-negative integer values from 0 to k in an *n x 1* array called cluster.\n",
    "\n",
    "Modify the code from the second of the two examples to produce a scatter plot where \n",
    "points with same integer label are colored the same color."
   ]
  },
  {
   "cell_type": "markdown",
   "id": "c9b562b7-2cf9-4e82-a394-2f5c8a223084",
   "metadata": {},
   "source": [
    "\n",
    "### The Lorenz Attractor\n",
    "\n",
    "Here is a plot of the Lorenz Attractor. This is a curve solving a particular interesting set of \n",
    "differential equations. Read about this system here:\n",
    "    \n",
    "https://en.wikipedia.org/wiki/Lorenz_system\n",
    "\n",
    "Download/copy the Python code here:\n",
    "\n",
    "https://matplotlib.org/stable/gallery/mplot3d/lorenz_attractor.html#sphx-glr-gallery-mplot3d-lorenz-attractor-py\n",
    "\n",
    "Note that this generates a numerical solution to the system of equations.\n",
    "\n",
    "What are the effects of changing the parameters in the system?\n"
   ]
  },
  {
   "cell_type": "markdown",
   "id": "2a6c5a41-fcb6-47fa-b864-57632c656077",
   "metadata": {},
   "source": [
    "### Plotting surfaces:\n",
    "\n",
    "In multivariable calculus we spent a great deal of time plotting surfaces.  Here's one\n",
    "way to do this in 3D: \n",
    "\n",
    "https://matplotlib.org/stable/gallery/mplot3d/surface3d.html#sphx-glr-gallery-mplot3d-surface3d-py\n",
    "\n",
    "Experiment with this plotting different functions. Can you plot multiple functions on the same axes."
   ]
  },
  {
   "cell_type": "markdown",
   "id": "afb32a41-e2bf-41c0-8944-751b9ba7aafc",
   "metadata": {},
   "source": [
    "### Visualize matrices with matshow\n",
    "\n",
    "When examining 2d matrices or arrays, it can be helpful to visualize the matrix to understand\n",
    "it's structure. Here's one way to do this.\n",
    "\n",
    "https://matplotlib.org/stable/gallery/images_contours_and_fields/matshow.html#visualize-matrices-with-matshow\n",
    "\n",
    "Note this is similar to imshow, which we've seen already."
   ]
  },
  {
   "cell_type": "code",
   "execution_count": null,
   "id": "591668ce-76dc-4f54-b8e2-ff4a1324f301",
   "metadata": {},
   "outputs": [],
   "source": []
  }
 ],
 "metadata": {
  "kernelspec": {
   "display_name": "Python 3 (ipykernel)",
   "language": "python",
   "name": "python3"
  },
  "language_info": {
   "codemirror_mode": {
    "name": "ipython",
    "version": 3
   },
   "file_extension": ".py",
   "mimetype": "text/x-python",
   "name": "python",
   "nbconvert_exporter": "python",
   "pygments_lexer": "ipython3",
   "version": "3.9.13"
  }
 },
 "nbformat": 4,
 "nbformat_minor": 5
}
