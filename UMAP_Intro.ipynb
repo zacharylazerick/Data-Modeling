{
 "cells": [
  {
   "cell_type": "markdown",
   "id": "9a6da33d-9101-4dc9-b4fb-0351a2a17552",
   "metadata": {},
   "source": [
    "# How to Use UMAP:\n",
    "\n",
    "This is taken directly from \n",
    "\n",
    "https://umap-learn.readthedocs.io/en/latest/basic_usage.html#\n",
    "\n",
    "Before proceeding install UMAP from a terminal command line using pip install or conda install:\n",
    "\n",
    "* pip install umap-learn\n",
    "* conda install -c conda-forge umap-learn\n",
    "\n",
    "In addition to using umap, we'll also be using seaborn for the first time:\n",
    "\n",
    "* seaborn: statistical data visualization\n",
    "\n",
    "https://seaborn.pydata.org/\n",
    "\n",
    "The following code blocks come from umap-learn.readthedocs. Rather than cut and paste\n",
    "content from there. Read the descriptions provided there and execute the code here:"
   ]
  },
  {
   "cell_type": "code",
   "execution_count": 1,
   "id": "1812dec5-fd19-4b1f-bb63-0910d870b8ba",
   "metadata": {},
   "outputs": [],
   "source": [
    "import numpy as np\n",
    "from sklearn.datasets import load_digits\n",
    "from sklearn.model_selection import train_test_split\n",
    "from sklearn.preprocessing import StandardScaler\n",
    "import matplotlib.pyplot as plt\n",
    "import seaborn as sns\n",
    "import pandas as pd\n",
    "%matplotlib inline\n",
    "# import umap.umap_ as umap\n",
    "# import umap as mp\n",
    "import umap.umap_ as umap"
   ]
  },
  {
   "cell_type": "markdown",
   "id": "4719e42f-1d87-40f5-8e0f-6401aef7e126",
   "metadata": {},
   "source": [
    "Set the seaborn style:"
   ]
  },
  {
   "cell_type": "code",
   "execution_count": null,
   "id": "e97fb016-e686-486f-8ac1-ac9f1a59df8f",
   "metadata": {},
   "outputs": [],
   "source": [
    "sns.set(style='white', context='notebook', rc={'figure.figsize':(14,10)})"
   ]
  },
  {
   "cell_type": "markdown",
   "id": "02121af2-46f4-461b-bc21-f18acfdc3580",
   "metadata": {},
   "source": [
    "Load the penguins data set and peek at the head of the dataframe:"
   ]
  },
  {
   "cell_type": "code",
   "execution_count": null,
   "id": "3c51b775-510b-4efe-ba70-6f66e4507d0f",
   "metadata": {},
   "outputs": [],
   "source": [
    "penguins = pd.read_csv(\"https://raw.githubusercontent.com/allisonhorst/palmerpenguins/c19a904462482430170bfe2c718775ddb7dbb885/inst/extdata/penguins.csv\")\n",
    "penguins.head()"
   ]
  },
  {
   "cell_type": "markdown",
   "id": "622ff87f-203e-496c-bdc2-3c2ca7a867d2",
   "metadata": {},
   "source": [
    "Notice there are NaN entries, which we will drop:"
   ]
  },
  {
   "cell_type": "code",
   "execution_count": null,
   "id": "17b955b1-ad87-4deb-b26f-b3bdca02c75f",
   "metadata": {},
   "outputs": [],
   "source": [
    "penguins = penguins.dropna()\n",
    "penguins.species.value_counts()"
   ]
  },
  {
   "cell_type": "markdown",
   "id": "fa7c2de7-05e7-46a1-9aa5-51b0fe08adee",
   "metadata": {},
   "source": [
    "The following pair plots are an interesting, though involved way to visualize a high dimensional\n",
    "data set. What are the diagonal entries?"
   ]
  },
  {
   "cell_type": "code",
   "execution_count": null,
   "id": "6f39b4ae-188e-404b-be62-cc0744b03e3f",
   "metadata": {},
   "outputs": [],
   "source": [
    "sns.pairplot(penguins.drop(\"year\", axis=1), hue='species');"
   ]
  },
  {
   "cell_type": "markdown",
   "id": "6f8f48ca-89c5-4eb3-a0af-73301706f7bc",
   "metadata": {},
   "source": [
    "Now we introduce UMAP:"
   ]
  },
  {
   "cell_type": "code",
   "execution_count": null,
   "id": "e5b4b093-e599-4585-ae8f-8edcdbd31a99",
   "metadata": {},
   "outputs": [],
   "source": [
    "reducer = umap.UMAP()"
   ]
  },
  {
   "cell_type": "code",
   "execution_count": null,
   "id": "c8017fed-bbeb-4bcb-9c14-66e90dfd6b35",
   "metadata": {},
   "outputs": [],
   "source": [
    "penguin_data = penguins[\n",
    "    [\n",
    "        \"bill_length_mm\",\n",
    "        \"bill_depth_mm\",\n",
    "        \"flipper_length_mm\",\n",
    "        \"body_mass_g\",\n",
    "    ]\n",
    "].values"
   ]
  },
  {
   "cell_type": "code",
   "execution_count": null,
   "id": "a38fde88-8aea-4923-9a09-769e131b6019",
   "metadata": {},
   "outputs": [],
   "source": [
    "scaled_penguin_data = StandardScaler().fit_transform(penguin_data)"
   ]
  },
  {
   "cell_type": "code",
   "execution_count": null,
   "id": "7f0a21e6-0c72-404f-b36a-7fb35ccb42a5",
   "metadata": {},
   "outputs": [],
   "source": [
    "embedding = reducer.fit_transform(scaled_penguin_data)\n",
    "embedding.shape"
   ]
  },
  {
   "cell_type": "code",
   "execution_count": null,
   "id": "1b317933-4b07-4bae-8d02-8151ae72178f",
   "metadata": {},
   "outputs": [],
   "source": [
    "plt.scatter(\n",
    "    embedding[:, 0],\n",
    "    embedding[:, 1],\n",
    "    c=[sns.color_palette()[x] for x in penguins.species.map({\"Adelie\":0, \"Chinstrap\":1, \"Gentoo\":2})])\n",
    "plt.gca().set_aspect('equal', 'datalim')\n",
    "plt.title('UMAP projection of the Penguin dataset', fontsize=24);"
   ]
  },
  {
   "cell_type": "code",
   "execution_count": null,
   "id": "7431df5a-6efe-48dc-ae13-1c948c1c163a",
   "metadata": {},
   "outputs": [],
   "source": [
    "# Basic UMAP Parameters: Random Colors"
   ]
  },
  {
   "cell_type": "code",
   "execution_count": null,
   "id": "8c4b3d0f-a328-4e6d-918b-75e6a222b862",
   "metadata": {},
   "outputs": [],
   "source": [
    "The following is from: https://umap-learn.readthedocs.io/en/latest/parameters.html"
   ]
  },
  {
   "cell_type": "code",
   "execution_count": null,
   "id": "5d36385b-1bb7-4daa-8537-07a1fe2584ec",
   "metadata": {},
   "outputs": [],
   "source": [
    "sns.set(style='white', context='poster', rc={'figure.figsize':(14,10)})"
   ]
  },
  {
   "cell_type": "code",
   "execution_count": null,
   "id": "1849b0ca-4b9c-4e25-ac58-72c631edf23c",
   "metadata": {},
   "outputs": [],
   "source": [
    "np.random.seed(42)\n",
    "data = np.random.rand(800, 4)"
   ]
  },
  {
   "cell_type": "code",
   "execution_count": null,
   "id": "dc1e4431-57aa-4114-a179-a83109902a35",
   "metadata": {},
   "outputs": [],
   "source": [
    "fit = umap.UMAP()\n",
    "%time u = fit.fit_transform(data)"
   ]
  },
  {
   "cell_type": "code",
   "execution_count": null,
   "id": "d734fcb8-e5f1-4637-902e-b4a43f85c5eb",
   "metadata": {},
   "outputs": [],
   "source": [
    "plt.scatter(u[:,0], u[:,1], c=data)\n",
    "plt.title('UMAP embedding of random colours');"
   ]
  },
  {
   "cell_type": "code",
   "execution_count": null,
   "id": "190b1b08-3c82-4030-93de-37233f38dcd9",
   "metadata": {},
   "outputs": [],
   "source": [
    "plt.scatter(u[:,0], u[:,1], c=data)\n",
    "plt.title('UMAP embedding of random colours');"
   ]
  },
  {
   "cell_type": "code",
   "execution_count": null,
   "id": "71967214-593e-4e13-8650-6e6a18e199e2",
   "metadata": {},
   "outputs": [],
   "source": [
    "def draw_umap(n_neighbors=15, min_dist=0.1, n_components=2, metric='euclidean', title=''):\n",
    "    fit = umap.UMAP(\n",
    "        n_neighbors=n_neighbors,\n",
    "        min_dist=min_dist,\n",
    "        n_components=n_components,\n",
    "        metric=metric\n",
    "    )\n",
    "    u = fit.fit_transform(data);\n",
    "    fig = plt.figure()\n",
    "    if n_components == 1:\n",
    "        ax = fig.add_subplot(111)\n",
    "        ax.scatter(u[:,0], range(len(u)), c=data)\n",
    "    if n_components == 2:\n",
    "        ax = fig.add_subplot(111)\n",
    "        ax.scatter(u[:,0], u[:,1], c=data)\n",
    "    if n_components == 3:\n",
    "        ax = fig.add_subplot(111, projection='3d')\n",
    "        ax.scatter(u[:,0], u[:,1], u[:,2], c=data, s=100)\n",
    "    plt.title(title, fontsize=18)\n"
   ]
  },
  {
   "cell_type": "code",
   "execution_count": null,
   "id": "668d443a-0de4-4d5c-b3ad-aa576815a1b2",
   "metadata": {},
   "outputs": [],
   "source": [
    "for n in (2, 5, 10, 20, 50, 100, 200):\n",
    "    draw_umap(n_neighbors=n, title='n_neighbors = {}'.format(n))"
   ]
  },
  {
   "cell_type": "code",
   "execution_count": null,
   "id": "a318f6f3-d751-45eb-8fc2-08e2c573643f",
   "metadata": {},
   "outputs": [],
   "source": [
    "for d in (0.0, 0.1, 0.25, 0.5, 0.8, 0.99):\n",
    "    draw_umap(min_dist=d, title='min_dist = {}'.format(d))\n"
   ]
  },
  {
   "cell_type": "code",
   "execution_count": null,
   "id": "a00d02ed-d70a-4fd6-b6cb-f1ddef897eb1",
   "metadata": {},
   "outputs": [],
   "source": [
    "draw_umap(n_components=1, title='n_components = 1')"
   ]
  },
  {
   "cell_type": "code",
   "execution_count": null,
   "id": "8911fbf3-1629-4bec-a2b4-f32b16602e2e",
   "metadata": {},
   "outputs": [],
   "source": [
    "draw_umap(n_components=3, title='n_components = 3')"
   ]
  },
  {
   "cell_type": "code",
   "execution_count": null,
   "id": "21ba757d-71ff-40d8-8593-8aebc3c3e3c1",
   "metadata": {},
   "outputs": [],
   "source": []
  }
 ],
 "metadata": {
  "kernelspec": {
   "display_name": "Python 3 (ipykernel)",
   "language": "python",
   "name": "python3"
  },
  "language_info": {
   "codemirror_mode": {
    "name": "ipython",
    "version": 3
   },
   "file_extension": ".py",
   "mimetype": "text/x-python",
   "name": "python",
   "nbconvert_exporter": "python",
   "pygments_lexer": "ipython3",
   "version": "3.9.13"
  }
 },
 "nbformat": 4,
 "nbformat_minor": 5
}
