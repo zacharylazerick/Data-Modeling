{
 "cells": [
  {
   "cell_type": "markdown",
   "id": "a89206f8-f474-46ed-bccc-cb9ff6746fd4",
   "metadata": {},
   "source": [
    "# Handout Problems for 1/30/23\n",
    "\n",
    "Here are three short coding exercises of increasing complexity. Work with a partner or two on this.\n",
    "\n",
    "Solutions will be posted for class Wednesday."
   ]
  },
  {
   "cell_type": "markdown",
   "id": "136855dc-7245-437d-a7dd-8e54c743a977",
   "metadata": {},
   "source": [
    "### 1(a)\n",
    "\n",
    "Create two tuples of related items: For example:\n",
    "    \n",
    "    * your favorite authors and their books\n",
    "    * your favorite places and a feature of them\n",
    "    * etc.\n",
    "   "
   ]
  },
  {
   "cell_type": "code",
   "execution_count": 1,
   "id": "f628f12f",
   "metadata": {},
   "outputs": [
    {
     "data": {
      "text/plain": [
       "('Golden Gate Park', 'National Harbor', 'St. Louis Zoo')"
      ]
     },
     "execution_count": 1,
     "metadata": {},
     "output_type": "execute_result"
    }
   ],
   "source": [
    "# Tuple of places\n",
    "place_tup = tuple(['San Francisco', 'Washington D.C.', 'St. Louis'])\n",
    "\n",
    "# Tuple of features\n",
    "feature_tup = tuple(['Golden Gate Park', 'National Harbor', 'St. Louis Zoo'])\n",
    "\n",
    "#Print the tuples\n",
    "place_tup\n",
    "feature_tup"
   ]
  },
  {
   "cell_type": "markdown",
   "id": "0fdd8215-dbc2-470f-b6bc-b9e2dc8156f0",
   "metadata": {},
   "source": [
    " \n",
    "### 1(b)\n",
    "\n",
    "Create a dictionary with one of your lists as the key and the other as the value"
   ]
  },
  {
   "cell_type": "code",
   "execution_count": 2,
   "id": "3c247297",
   "metadata": {},
   "outputs": [
    {
     "data": {
      "text/plain": [
       "{'San Francisco': 'Golden Gate Park',\n",
       " 'Washington D.C.': 'National Harbor',\n",
       " 'St. Louis': 'St. Louis Zoo'}"
      ]
     },
     "execution_count": 2,
     "metadata": {},
     "output_type": "execute_result"
    }
   ],
   "source": [
    "# Zip the two tuples together\n",
    "placefeature_tup = zip(place_tup, feature_tup)\n",
    "\n",
    "# Create a dictionary from the zipped list\n",
    "placefeature_dict = dict(placefeature_tup)\n",
    "\n",
    "# Print the dictionary\n",
    "placefeature_dict"
   ]
  },
  {
   "cell_type": "markdown",
   "id": "ee331e5b-4506-4873-88e9-76572ae4e7e0",
   "metadata": {},
   "source": [
    "### 2 Modify your dictionary in order by:\n",
    "\n",
    "    * adding a key-value pair to the dictionary\n",
    "    * removing a key-value pair\n",
    "    * modifying a key-value pair\n",
    "    "
   ]
  },
  {
   "cell_type": "code",
   "execution_count": 3,
   "id": "c54713fc",
   "metadata": {},
   "outputs": [
    {
     "data": {
      "text/plain": [
       "{'San Francisco': 'Golden Gate Park',\n",
       " 'Washington D.C.': 'Museum of Natural History',\n",
       " 'Chicago': 'Millennium Park'}"
      ]
     },
     "execution_count": 3,
     "metadata": {},
     "output_type": "execute_result"
    }
   ],
   "source": [
    "# Add key-value pair\n",
    "placefeature_dict['Chicago'] = 'Millennium Park'\n",
    "\n",
    "# Remove a key-value pair\n",
    "del placefeature_dict['St. Louis']\n",
    "\n",
    "# Modify a key-value pair\n",
    "placefeature_dict.update({'Washington D.C.': 'Museum of Natural History'})\n",
    "\n",
    "# Print Dictionary\n",
    "placefeature_dict"
   ]
  },
  {
   "cell_type": "markdown",
   "id": "0e701ed9-c0c9-4d7b-95ba-311d7701ec6e",
   "metadata": {},
   "source": [
    "### 3 Write a function that separately prints \n",
    "\n",
    "    * the keys of your dictionary\n",
    "    * the values of your dictionary\n",
    "    * the items of your dictionary"
   ]
  },
  {
   "cell_type": "code",
   "execution_count": 4,
   "id": "8951bb42-ef8d-4e4f-8060-6665683dab03",
   "metadata": {},
   "outputs": [
    {
     "name": "stdout",
     "output_type": "stream",
     "text": [
      "The keys in the dictionary are ['San Francisco', 'Washington D.C.', 'Chicago']\n",
      "The values in the dictionary are ['Golden Gate Park', 'Museum of Natural History', 'Millennium Park']\n",
      "The items in the dictionary are [('San Francisco', 'Golden Gate Park'), ('Washington D.C.', 'Museum of Natural History'), ('Chicago', 'Millennium Park')]\n"
     ]
    }
   ],
   "source": [
    "def printdict(dictionary1):\n",
    "    # Separate the parts of the Dictionary\n",
    "    keylist = list(dictionary1.keys())\n",
    "    valuelist = list(dictionary1.values())\n",
    "    itemlist = list(dictionary1.items())\n",
    "    \n",
    "    # Print the parts of the Dictionary\n",
    "    print(\"The keys in the dictionary are\", keylist)\n",
    "    print(\"The values in the dictionary are\", valuelist)\n",
    "    print(\"The items in the dictionary are\", itemlist)\n",
    "    \n",
    "printdict(placefeature_dict)"
   ]
  }
 ],
 "metadata": {
  "kernelspec": {
   "display_name": "Python 3 (ipykernel)",
   "language": "python",
   "name": "python3"
  },
  "language_info": {
   "codemirror_mode": {
    "name": "ipython",
    "version": 3
   },
   "file_extension": ".py",
   "mimetype": "text/x-python",
   "name": "python",
   "nbconvert_exporter": "python",
   "pygments_lexer": "ipython3",
   "version": "3.9.13"
  }
 },
 "nbformat": 4,
 "nbformat_minor": 5
}
