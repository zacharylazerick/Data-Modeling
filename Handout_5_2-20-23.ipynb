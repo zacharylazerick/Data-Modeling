{
 "cells": [
  {
   "cell_type": "markdown",
   "id": "44647847-eea6-4c90-984f-7100a0be6ebd",
   "metadata": {},
   "source": [
    "# Handout 5 US Education by State\n",
    "\n",
    "In this handout you'll use Pandas to analyze US education data by state. The\n",
    "data is contained in three different .csv files:\n",
    "\n",
    "* The first is US Census data on educational attainment by state:\n",
    "    \n",
    "https://en.wikipedia.org/wiki/List_of_U.S._states_and_territories_by_educational_attainment#cite_note-CensusData-1\n",
    "\n",
    "Filename: \n",
    "    \n",
    "* The second is US per pupil spending per state from the World Population Review:\n",
    "\n",
    "ttps://worldpopulationreview.com/state-rankings/per-pupil-spending-by-state\n",
    "\n",
    "Filename: per_pupil_spending_per_state.csv\n",
    "\n",
    "* The third is Tax Burden by state obtained from the Tax Foundation\n",
    "\n",
    "Filename: Tax_Burden_by_state.csv\n",
    "\n",
    "Here are several \"problems\" concerning this data. \n",
    "\n",
    "Hand in one version of this JupyterLab per team. For each problem, your .ipynb file \n",
    "should contain all your Python/Pandas commands, results of calculations, and your \n",
    "observations. "
   ]
  },
  {
   "cell_type": "code",
   "execution_count": 1,
   "id": "49498403",
   "metadata": {},
   "outputs": [],
   "source": [
    "import numpy as np\n",
    "import pandas as pd\n",
    "from pandas import Series, DataFrame"
   ]
  },
  {
   "cell_type": "markdown",
   "id": "625e18df-43df-449f-817b-911fac2b9a67",
   "metadata": {},
   "source": [
    "### 1. \n",
    "\n",
    "(a) Using Pandas, load the three files into Python"
   ]
  },
  {
   "cell_type": "code",
   "execution_count": 2,
   "id": "0ccf0177",
   "metadata": {
    "scrolled": true
   },
   "outputs": [],
   "source": [
    "## Education by State\n",
    "Education = pd.read_csv('US_education_by_state.csv')\n",
    "\n",
    "## Pupil Spending by State\n",
    "Pupil = pd.read_csv('per_pupil_spending_per_state.csv')\n",
    "\n",
    "## Tax Burden by State\n",
    "Tax = pd.read_csv('Tax_Burden_by_state.csv')"
   ]
  },
  {
   "cell_type": "markdown",
   "id": "402dcf0c",
   "metadata": {},
   "source": [
    "(b) Merge the three dataframes into a single dataframe using state names\n",
    "as the index. (Note: The District of Columbia is included on the list, so \n",
    "you should have 51 indices.)"
   ]
  },
  {
   "cell_type": "code",
   "execution_count": 3,
   "id": "a2a1e7d9",
   "metadata": {
    "scrolled": true
   },
   "outputs": [],
   "source": [
    "## Sort each Dataframe by State\n",
    "Education = Education.sort_values('State'); Pupil = Pupil.sort_values('State'); Tax = Tax.sort_values('State')"
   ]
  },
  {
   "cell_type": "code",
   "execution_count": 4,
   "id": "0101109a",
   "metadata": {},
   "outputs": [],
   "source": [
    "## Remove Puerto Rico From Data Set\n",
    "Education = Education.drop(39)"
   ]
  },
  {
   "cell_type": "code",
   "execution_count": 5,
   "id": "73a70711",
   "metadata": {},
   "outputs": [
    {
     "name": "stderr",
     "output_type": "stream",
     "text": [
      "C:\\Users\\lazlo\\AppData\\Local\\Temp\\ipykernel_13840\\1521197251.py:2: UserWarning: Pandas doesn't allow columns to be created via a new attribute name - see https://pandas.pydata.org/pandas-docs/stable/indexing.html#attribute-access\n",
      "  Pupil.np = Pupil.to_numpy()\n",
      "C:\\Users\\lazlo\\AppData\\Local\\Temp\\ipykernel_13840\\1521197251.py:6: UserWarning: Pandas doesn't allow columns to be created via a new attribute name - see https://pandas.pydata.org/pandas-docs/stable/indexing.html#attribute-access\n",
      "  Tax.np = Tax.to_numpy()\n"
     ]
    }
   ],
   "source": [
    "## Convert Pupil Data to np array\n",
    "Pupil.np = Pupil.to_numpy()\n",
    "Pupil.np = Pupil.np[:, 1]\n",
    "\n",
    "## Convert Tax Data to np array\n",
    "Tax.np = Tax.to_numpy()\n",
    "Tax.np = Tax.np[:, 1]\n",
    "\n",
    "## Merge the 3 dataframes\n",
    "EDU = Education\n",
    "EDU.insert(5, 'Per Pupil Education Spending', Pupil.np)\n",
    "EDU.insert(6, 'Tax Burden by State', Tax.np)"
   ]
  },
  {
   "cell_type": "markdown",
   "id": "fa5d3161",
   "metadata": {},
   "source": [
    "### 2 \n",
    "\n",
    "(a) Determine the correlations between High School or Higher, Per Pupil Spending,\n",
    "and Effective Tax Rate. How strong are the correlations?"
   ]
  },
  {
   "cell_type": "code",
   "execution_count": null,
   "id": "54a1f8d4",
   "metadata": {},
   "outputs": [],
   "source": []
  },
  {
   "cell_type": "markdown",
   "id": "512e24ff",
   "metadata": {},
   "source": [
    "(b) Replace High School or Higher by BA/BS or higher in your comparisons. Are the\n",
    "correlations similar to those from (a)."
   ]
  },
  {
   "cell_type": "code",
   "execution_count": null,
   "id": "df068efa",
   "metadata": {},
   "outputs": [],
   "source": []
  },
  {
   "cell_type": "markdown",
   "id": "d1e1553d",
   "metadata": {},
   "source": [
    "### 3 \n",
    "\n",
    "(a) Create three new columns:\n",
    "\n",
    "    * Geographic region column containing the geogrphical regions of the state. \n",
    "    (See the .png file in Canvas.)         \n",
    "    \n",
    "    * A column with the rank ordering of states by BA/BS or higher\n",
    "    \n",
    "    * A column with the rank ordering of states by per pupil spending"
   ]
  },
  {
   "cell_type": "code",
   "execution_count": null,
   "id": "fcc93afd",
   "metadata": {},
   "outputs": [],
   "source": []
  },
  {
   "cell_type": "markdown",
   "id": "dd1282fb",
   "metadata": {},
   "source": [
    "(b) Organizing the list by geographical regions, do you observe any correlation \n",
    "    between region and the two rank orders?  Explain.                                                                "
   ]
  },
  {
   "cell_type": "code",
   "execution_count": null,
   "id": "3789daba",
   "metadata": {},
   "outputs": [],
   "source": []
  }
 ],
 "metadata": {
  "kernelspec": {
   "display_name": "Python 3 (ipykernel)",
   "language": "python",
   "name": "python3"
  },
  "language_info": {
   "codemirror_mode": {
    "name": "ipython",
    "version": 3
   },
   "file_extension": ".py",
   "mimetype": "text/x-python",
   "name": "python",
   "nbconvert_exporter": "python",
   "pygments_lexer": "ipython3",
   "version": "3.9.13"
  }
 },
 "nbformat": 4,
 "nbformat_minor": 5
}
