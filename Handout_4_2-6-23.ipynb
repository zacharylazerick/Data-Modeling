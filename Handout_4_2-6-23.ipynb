{
 "cells": [
  {
   "cell_type": "markdown",
   "id": "b31a4432-0e76-461e-b8a1-18ca53d6d618",
   "metadata": {},
   "source": [
    "# Handout 4 for 2/6/23\n",
    "\n",
    "Download the Stanford list of 5 letter words and read it into a list called wordlist.\n"
   ]
  },
  {
   "cell_type": "markdown",
   "id": "8ea4c991-9a46-4719-a828-52f589a6f774",
   "metadata": {},
   "source": [
    "# 1\n",
    "\n",
    "Choose a word with five distinct letters. Modify the code from lecture to \n",
    "find all words on the list that are made up of the same five letters."
   ]
  },
  {
   "cell_type": "code",
   "execution_count": 1,
   "id": "ea22dc6c",
   "metadata": {},
   "outputs": [],
   "source": [
    "path = 'sgb-words.txt'\n",
    "f = open(path, encoding=\"utf-8\")\n",
    "f.seek(0)\n",
    "wordlist = [x.rstrip() for x in open(path, encoding=\"utf-8\")]"
   ]
  },
  {
   "cell_type": "code",
   "execution_count": 2,
   "id": "06c9e6b9",
   "metadata": {},
   "outputs": [],
   "source": [
    "f.close()"
   ]
  },
  {
   "cell_type": "code",
   "execution_count": 16,
   "id": "7c1ca575",
   "metadata": {},
   "outputs": [
    {
     "data": {
      "text/plain": [
       "{'h', 'o', 'r', 't', 'w'}"
      ]
     },
     "execution_count": 16,
     "metadata": {},
     "output_type": "execute_result"
    }
   ],
   "source": [
    "myword = set('throw')\n",
    "\n",
    "myword"
   ]
  },
  {
   "cell_type": "code",
   "execution_count": 17,
   "id": "459b80b2",
   "metadata": {},
   "outputs": [
    {
     "data": {
      "text/plain": [
       "{'h', 'o', 'r', 't', 'w'}"
      ]
     },
     "execution_count": 17,
     "metadata": {},
     "output_type": "execute_result"
    }
   ],
   "source": [
    "myword.intersection_update(myword)\n",
    "\n",
    "myword"
   ]
  },
  {
   "cell_type": "code",
   "execution_count": 18,
   "id": "3c2d72c7",
   "metadata": {},
   "outputs": [
    {
     "data": {
      "text/plain": [
       "3"
      ]
     },
     "execution_count": 18,
     "metadata": {},
     "output_type": "execute_result"
    }
   ],
   "source": [
    "counter = 0\n",
    "\n",
    "for word in wordlist:\n",
    "    word = set(word)\n",
    "    word.intersection_update(word)\n",
    "    if (word == myword):\n",
    "        counter += 1\n",
    "        \n",
    "counter"
   ]
  },
  {
   "cell_type": "markdown",
   "id": "950bf43c-aa02-4c23-a89d-723cf89ed807",
   "metadata": {},
   "source": [
    "# 2\n",
    "\n",
    "For which letter of the alphabet are there the most words having that letter repeated\n",
    "two or more times?\n",
    "\n",
    "Suggestion: Using the code from the lecture create a loop that cycles through the\n",
    "letters of the alphabet. This can be accomplished by a for loop starting:\n",
    "\n",
    "    for letter in alphabet: \n",
    "        ...\n",
    "    \n",
    "where alphabet = 'abcdefghijklmnopqrstuvwxyz'"
   ]
  },
  {
   "cell_type": "code",
   "execution_count": 5,
   "id": "b26607ed",
   "metadata": {},
   "outputs": [
    {
     "ename": "TypeError",
     "evalue": "unsupported operand type(s) for -: 'list' and 'int'",
     "output_type": "error",
     "traceback": [
      "\u001b[1;31m---------------------------------------------------------------------------\u001b[0m",
      "\u001b[1;31mTypeError\u001b[0m                                 Traceback (most recent call last)",
      "\u001b[1;32m~\\AppData\\Local\\Temp\\ipykernel_12640\\2391299784.py\u001b[0m in \u001b[0;36m<module>\u001b[1;34m\u001b[0m\n\u001b[0;32m     17\u001b[0m \u001b[0mnum_double_letter\u001b[0m\u001b[1;33m\u001b[0m\u001b[1;33m\u001b[0m\u001b[0m\n\u001b[0;32m     18\u001b[0m \u001b[1;33m\u001b[0m\u001b[0m\n\u001b[1;32m---> 19\u001b[1;33m \u001b[1;32mfor\u001b[0m \u001b[0mi\u001b[0m \u001b[1;32min\u001b[0m \u001b[0mlen\u001b[0m\u001b[1;33m(\u001b[0m\u001b[0mnum_double_letter\u001b[0m \u001b[1;33m-\u001b[0m \u001b[1;36m1\u001b[0m\u001b[1;33m)\u001b[0m\u001b[1;33m:\u001b[0m\u001b[1;33m\u001b[0m\u001b[1;33m\u001b[0m\u001b[0m\n\u001b[0m\u001b[0;32m     20\u001b[0m     \u001b[0mnum_double_letter\u001b[0m\u001b[1;33m[\u001b[0m\u001b[0mi\u001b[0m\u001b[1;33m]\u001b[0m \u001b[1;33m=\u001b[0m \u001b[0mnum_double_letter\u001b[0m\u001b[1;33m[\u001b[0m\u001b[0mi\u001b[0m \u001b[1;33m+\u001b[0m \u001b[1;36m1\u001b[0m\u001b[1;33m]\u001b[0m \u001b[1;33m-\u001b[0m \u001b[0mnum_double_letter\u001b[0m\u001b[1;33m[\u001b[0m\u001b[0mi\u001b[0m\u001b[1;33m]\u001b[0m\u001b[1;33m\u001b[0m\u001b[1;33m\u001b[0m\u001b[0m\n\u001b[0;32m     21\u001b[0m \u001b[1;33m\u001b[0m\u001b[0m\n",
      "\u001b[1;31mTypeError\u001b[0m: unsupported operand type(s) for -: 'list' and 'int'"
     ]
    }
   ],
   "source": [
    "alphabet = 'abcdefghijklmnopqrstuvwxyz'\n",
    "\n",
    "double_letter_words = []\n",
    "num_double_letter = []\n",
    "\n",
    "for letter in alphabet:\n",
    "    myletter = letter\n",
    "    for word in wordlist:\n",
    "        num_letter = 0\n",
    "        for letter in word:\n",
    "            if letter == myletter:\n",
    "                num_letter += 1\n",
    "        if num_letter > 1:\n",
    "            double_letter_words.append(word)\n",
    "    num_double_letter.append(len(double_letter_words))\n",
    "\n",
    "num_double_letter\n",
    "\n",
    "for i in len(num_double_letter - 1):\n",
    "    num_double_letter[i] = num_double_letter[i + 1] - num_double_letter[i]\n",
    "    \n",
    "num_double_letter"
   ]
  },
  {
   "cell_type": "markdown",
   "id": "81ab8b0f-a83e-46ad-8bcb-a2fb7228b63f",
   "metadata": {},
   "source": [
    "# 3\n",
    "\n",
    "How many words on the list contain 'st'?\n",
    "\n",
    "Suggestion: For each word, find all the letters 's' and check to see if the next\n",
    "letter is a 't'. "
   ]
  },
  {
   "cell_type": "code",
   "execution_count": null,
   "id": "cd5082d7-65ba-4d29-b020-776e4786763b",
   "metadata": {},
   "outputs": [],
   "source": []
  }
 ],
 "metadata": {
  "kernelspec": {
   "display_name": "Python 3 (ipykernel)",
   "language": "python",
   "name": "python3"
  },
  "language_info": {
   "codemirror_mode": {
    "name": "ipython",
    "version": 3
   },
   "file_extension": ".py",
   "mimetype": "text/x-python",
   "name": "python",
   "nbconvert_exporter": "python",
   "pygments_lexer": "ipython3",
   "version": "3.9.13"
  }
 },
 "nbformat": 4,
 "nbformat_minor": 5
}
