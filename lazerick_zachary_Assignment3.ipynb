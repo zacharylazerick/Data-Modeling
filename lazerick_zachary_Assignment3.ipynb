{
 "cells": [
  {
   "cell_type": "markdown",
   "id": "633a460b-2298-4518-bdba-6f47c51e7df1",
   "metadata": {},
   "source": [
    "# Assignment 3 Due Friday, February 17.\n",
    "\n",
    "Your code solutions to these problems should be included\n",
    "in this JupyterLab. Change the name of the worksheet to\n",
    "\n",
    "lastname_firstname_Assignment3.ipynb\n",
    "\n",
    "Please submit your solutions by uploading them to Canvas. Do the problems in order since later ones use the earlier ones.\n",
    "\n",
    "If you have any questions, see me in office hours or e-mail your question, with your .ipynb file as an attachment.\n",
    "\n",
    "Your solutions should use the function names provided in the problems. In addition to your code for each function, you should include severalapplications of your functions\n",
    "\n",
    "Also, you might find this link useful. It contains the naming conventions fo Python variables and functions:\n",
    "\n"
   ]
  },
  {
   "cell_type": "markdown",
   "id": "fe41edcd-504d-4ee6-8713-ae2042f8e0bf",
   "metadata": {},
   "source": [
    "## Random Walks\n",
    "\n",
    "This assignment involves planar random walks on a rectangular lattice. For background, check out:\n",
    "    \n",
    "https://en.wikipedia.org/wiki/Random_walk\n",
    "\n",
    "A random walk on the real line is a discrete time sequence of steps of a \"particle\" \n",
    "o the left or right on the real line. Here, we'll restrict our steps to be of fixed \n",
    "ength, which we'll choose to be of length 1. We'll denote the location of the particle \n",
    "after $n$ steps by $x_n$, which is an integer. The next step will wind up at either \n",
    "1 unit to the right or 1 unit to the left, each with probability 1/2. \n",
    "So $x_{n+1} = x_n -1$ or $x_n + 1$ each with probability 1/2. \n",
    "\n",
    "Since a random walk is (naturally) random, any mathematical statements we can make \n",
    "must be probabilistic or statistical and not deterministic. For instance, if a \n",
    "particle is located at $x_n$ after $n$ steps, we can say that after 2 more steps \n",
    "it has probability 1/2 of being back at location $x_n$, probability 1/4 of being \n",
    "located at $x_n -2$, and probability 1/4 of being located at $x_n + 2$. It has \n",
    "probability 0 of being located at any other integer point.\n",
    "\n",
    "While random walks on the real line are of interest, more interesting questions arise when\n",
    "studying random walks on the integer lattice in $\\mathbb{R}^2$. The integer lattice $L$ consists\n",
    "of all points in the plane with integer coordinates:\n",
    "\n",
    "$L = \\{(x,y):\\ x, y \\in \\mathbb{Z}\\}$\n",
    "\n",
    "A random walk on $L$ consists of a sequence of ordered pairs of integers:\n",
    "\n",
    "$[x_0,y_0], \\ [x_1, y_1], \\ [x_2, y_2], \\ldots, [x_n,y_n], [x_{n+1},y_{n+1}], \\ldots $\n",
    "\n",
    "Where $ [x_{n+1},y_{n+1}]$ is obtained from $ [x_n,y_n]$ by taking one step left,\n",
    "right, up, or down each with probability 1/4. For example, if the particle is located\n",
    "at $[3,2]$, the next step will move the particle to $[2,2]$, $[4,2]$, $[3,3]$, or $[3,1]$\n",
    "each with probability 1/4. \n",
    "\n",
    "We might ask, for example, if a particle is located at $[3,2]$, what is the probabilty\n",
    "that after two steps it will be located at $[4,3]$, one step to the right and one step\n",
    "up. There are two ways for this to occur out of 16 possible pairs of\n",
    "steps left, right, up, or down, so the probability is 1/8. \n",
    "\n",
    "We'll begin by generating random walks in Python and visualizing them with \n",
    "mathplotlib. Then we'll explore the types of probabilistic statements one can\n",
    "make about them. \n",
    "\n",
    "\n",
    "\n"
   ]
  },
  {
   "cell_type": "markdown",
   "id": "ffbd5bb1-8ffc-419e-96a4-6de84fcbcc23",
   "metadata": {},
   "source": [
    "Before proceeding, import the following packages:"
   ]
  },
  {
   "cell_type": "code",
   "execution_count": 1,
   "id": "77444d56-e6c6-4317-9456-a62e6d82209d",
   "metadata": {},
   "outputs": [],
   "source": [
    "import numpy as np\n",
    "from numpy.linalg import norm\n",
    "import random\n",
    "\n",
    "import matplotlib.pyplot as plt\n",
    "import matplotlib.animation as animation\n",
    "from matplotlib import style\n",
    "\n",
    "%matplotlib inline"
   ]
  },
  {
   "cell_type": "markdown",
   "id": "7bfd26bf-59d6-4991-b43f-b917057a9876",
   "metadata": {},
   "source": [
    "## 1 A Random Walk in the Plane\n",
    "\n",
    "### (a) Random walk function\n",
    "\n",
    "Code a Python function that creates a random walk on the integer\n",
    "lattice in the plane \n",
    "\n",
    "* with inputs the initial point of the walk and the length (in number of steps) of the walk. Use the names *init_pos* for the initial position and *num_steps* for the number of steps. \n",
    "\n",
    "* with output a NumPy array of shape (# steps) x 2 listing the steps of the walk.\n",
    "Use the name *mywalk* for the output.\n",
    "\n",
    "Your function \n",
    "\n",
    "* should contain a loop to generate the successive points of the walk\n",
    "\n",
    "* the loop should contain a call to random.randint(1,4) to \n",
    "generate a random integer from 1, 2, 3, or 4\n",
    "\n",
    "* Based on the random number, the loop should assign the next position obtained\n",
    "by adding $[1,0]$, $[-1,0]$, $[0,1]$ or $[0.-1]$ to the current position"
   ]
  },
  {
   "cell_type": "code",
   "execution_count": 2,
   "id": "87a24ffb-3bed-4e4c-8831-e018e85990fd",
   "metadata": {},
   "outputs": [],
   "source": [
    "def randomwalk(init_pos, num_steps):\n",
    "    counter = 0; mywalk = np.zeros((num_steps + 1, 2)); mypoint = np.array(init_pos)\n",
    "    \n",
    "    if (len(init_pos) != 2):\n",
    "        return(\"ERROR: Initial Position is not a Valid Point in 2-Dimensional Space\")\n",
    "        \n",
    "    while (counter < num_steps):\n",
    "        \n",
    "        ## Update mywalk to include the New Point\n",
    "        mywalk[counter] = mypoint\n",
    "        \n",
    "        counter += 1; random_step = random.randint(1, 4)\n",
    "        \n",
    "        ## Iterate on Point\n",
    "        if (random_step == 1):\n",
    "            mypoint += [1, 0]\n",
    "        elif (random_step == 2):\n",
    "            mypoint += [-1, 0]\n",
    "        elif (random_step == 3):\n",
    "            mypoint += [0, 1]\n",
    "        elif (random_step == 4):\n",
    "            mypoint += [0, -1]\n",
    "        \n",
    "    return(mywalk)"
   ]
  },
  {
   "cell_type": "code",
   "execution_count": 3,
   "id": "4cb8ba69",
   "metadata": {},
   "outputs": [],
   "source": [
    "mywalk = randomwalk([0,0], 30)"
   ]
  },
  {
   "cell_type": "markdown",
   "id": "be2f09e0-f616-4b19-b13e-444f1630c053",
   "metadata": {},
   "source": [
    "### (b) Plotting your random walk\n",
    "\n",
    "Here are two methods of plotting your random walk. \n",
    "\n",
    "* The first plots all the steps of the walk showing line segments of length 1 for each step.\n",
    "\n",
    "* The second animates the walk by iteratively plotting points of a scatter\n",
    "plot. Points that are hit multiple times become darker.\n",
    "\n",
    "Here is the first method. This works for large values of *num_steps*. Try this several\n",
    "times for *num_steps* = 10, 100, 1000, 10000, 100000, and 1000000. The point is to\n",
    "get an intuitive visual sense of random walks.\n",
    "\n",
    "Note the grid is turned off and the figure is not saved, since no particular walk is of\n",
    "more interest than any other."
   ]
  },
  {
   "cell_type": "code",
   "execution_count": 4,
   "id": "c35bb5dc-c04f-43c8-b7a0-7c88dbe41702",
   "metadata": {},
   "outputs": [
    {
     "data": {
      "image/png": "[encoded data removed]",
      "text/plain": [
       "<Figure size 640x480 with 1 Axes>"
      ]
     },
     "metadata": {},
     "output_type": "display_data"
    }
   ],
   "source": [
    "# Line plot of a random walk \n",
    "\n",
    "fig, ax = plt.subplots()\n",
    "ax.plot(mywalk[:,0], mywalk[:,1])\n",
    "\n",
    "ax.set(xlabel='x', ylabel='y',\n",
    "       title='Random Walk Line Plot.')\n",
    "\n",
    "# ax.grid()\n",
    "# fig.savefig(\"test.png\")\n",
    "\n",
    "plt.show()"
   ]
  },
  {
   "cell_type": "markdown",
   "id": "f556c498-fd05-4412-9ac7-cb716cac2bc1",
   "metadata": {},
   "source": [
    "Here is the animated scatter plot. This will churn if you plot too many points. \n",
    "Limit your plotting here to 200 points."
   ]
  },
  {
   "cell_type": "code",
   "execution_count": 5,
   "id": "faa1f9a1-0a8c-49da-a2a1-319c380223c0",
   "metadata": {},
   "outputs": [],
   "source": [
    "# ANIMATED RANDOM WALK\n",
    "\n",
    "import matplotlib.pyplot as plt\n",
    "import matplotlib.animation\n",
    "import numpy as np\n",
    "\n",
    "x = mywalk[:,0]\n",
    "y = mywalk[:,1]\n",
    "\n",
    "%matplotlib tk     \n",
    "\n",
    "fig, ax = plt.subplots()\n",
    "\n",
    "# sc = ax.scatter(x,y[0])\n",
    "plt.ylim(-40,40)\n",
    "plt.xlim(-40,40)\n",
    "\n",
    "def animate(i): \n",
    "    area = 30\n",
    "    colors = [1]\n",
    "    plt.scatter(x[i], y[i], s=area, c=colors, alpha=0.5)\n",
    "\n",
    "ani = matplotlib.animation.FuncAnimation(fig, animate, \n",
    "                frames=len(y), interval=300, repeat=True) \n",
    "\n",
    "plt.show()"
   ]
  },
  {
   "cell_type": "markdown",
   "id": "e080a412-f0b9-4919-9f37-004d2dbf6a86",
   "metadata": {},
   "source": [
    "## 2 Expected values\n",
    "\n",
    "Since a random walk is a stochastic process, i.e. it is a family\n",
    "of random variables, any single walk, will yield different values\n",
    "for functions of walks. The best we can do in this case is to \n",
    "calculate the value of interest over a large collection of walks\n",
    "and calculate the mean and variance (or standard deviation)\n",
    "of the outcome. The mean will be the *expected value* for\n",
    "whatever value we are calculating. Here is one such example.\n",
    "\n",
    "First, assume that the initial location is $[0,0]$. Let $R > 0$ be\n",
    "the radius of a disk centered at the origin. For any random \n",
    "walk we can find the first time it leaves the disk. That is, the\n",
    "first time $t$ (which is an integer) for which \n",
    "\n",
    "$\\parallel [x_t,y_t] \\parallel > R$\n",
    "\n",
    "This time $t$ is easy to calculate. We don't care what happens\n",
    "after time $t_R$; the walk can re-enter the disk or not, so we can\n",
    "end a walk once $t_R$ is reached and record $t_R$.\n",
    "\n",
    "Repeating this process a large number of times, $N = 100$ is a reasonable\n",
    "place to start, we can estimate a value for this random variable by\n",
    "computing the mean of $t_R$ over $N$, and we can estimate how\n",
    "good this estimate is by calculating the standard deviation of the computed\n",
    "$t_R$. \n",
    "\n",
    "In this problem we'll compute the expected value $t_R$ and analyze\n",
    "its variability. \n",
    "\n",
    "(a) Using your function from problem 1 as a starting point modify your\n",
    "function to produce a function \n",
    "\n",
    "* whose input is an initial point (which we will set to $[0,0]$), a number of \n",
    "iterations, and a radius $R > 1$.\n",
    "\n",
    "* and whose output is the first time $t_R$ (an integer) when $\\parallel [x_t,y_t] \\parallel > R$\n",
    "\n",
    "Test this function on several random walks. Notice that in practice we will want to choose a large value for the number of iterations so that it is very likely\n",
    "that $t_R$ will be reached."
   ]
  },
  {
   "cell_type": "code",
   "execution_count": 6,
   "id": "4ab33602",
   "metadata": {},
   "outputs": [],
   "source": [
    "def randomwalk_lengthR(init_pos, num_steps, radius):\n",
    "    counter = 0; mywalk = np.zeros((num_steps + 1, 2)); mypoint = np.array(init_pos)\n",
    "    \n",
    "    if (len(init_pos) != 2):\n",
    "        return(\"ERROR: Initial Position is not a Valid Point in 2-Dimensional Space\")\n",
    "        \n",
    "    while (counter < num_steps):\n",
    "        \n",
    "        ## Update mywalk to include the New Point\n",
    "        mywalk[counter] = mypoint\n",
    "        \n",
    "        counter += 1; random_step = random.randint(1, 4)\n",
    "        \n",
    "        ## Iterate on Point\n",
    "        if (random_step == 1):\n",
    "            mypoint += [1, 0]\n",
    "        elif (random_step == 2):\n",
    "            mypoint += [-1, 0]\n",
    "        elif (random_step == 3):\n",
    "            mypoint += [0, 1]\n",
    "        elif (random_step == 4):\n",
    "            mypoint += [0, -1]\n",
    "            \n",
    "        if (mypoint[0]^2 + mypoint[1]^2 > radius^2):\n",
    "            return(counter)\n",
    "        \n",
    "    return(None)"
   ]
  },
  {
   "cell_type": "code",
   "execution_count": 7,
   "id": "05a68dc5",
   "metadata": {},
   "outputs": [
    {
     "data": {
      "text/plain": [
       "45"
      ]
     },
     "execution_count": 7,
     "metadata": {},
     "output_type": "execute_result"
    }
   ],
   "source": [
    "mywalk = randomwalk_lengthR([0,0], 100, 10)\n",
    "mywalk"
   ]
  },
  {
   "cell_type": "markdown",
   "id": "95cc35b1",
   "metadata": {},
   "source": [
    "(b) Create a second function that calls the function from part (a) and computes\n",
    "$t_R$ for a specified number of random walks and stores the values of $t_R$\n",
    "in a NumPy array. The function should\n",
    "\n",
    "* have as its input the $N$ of walks to be run, the maximum number of iterations of each walk, and the radius $R$\n",
    "\n",
    "* have as its output a NumPy array of length $N$ containing the computed\n",
    "values of $t_R$"
   ]
  },
  {
   "cell_type": "code",
   "execution_count": 8,
   "id": "5b2de8f8",
   "metadata": {},
   "outputs": [],
   "source": [
    "def randomwalk_lengthR_Generator(iterations, init_pos, num_steps, radius):\n",
    "    time_to_complete = np.zeros(iterations)\n",
    "    for i in range(iterations):\n",
    "        steps = randomwalk_lengthR(init_pos, num_steps, radius)\n",
    "        time_to_complete[i] = steps\n",
    "        \n",
    "    return(time_to_complete)"
   ]
  },
  {
   "cell_type": "markdown",
   "id": "0475c46d",
   "metadata": {},
   "source": [
    "(c) Apply your function from (b) with $R = 10, 20, 30, 40,$ and $50$ for $N=100$.\n",
    "This will produce 5 NumPy arrays. Save each of these arrays. The mean\n",
    "of the arrays of $t_R$ in each case will be our estimate of the expected\n",
    "value of $t_R$, which we denote by $\\overline{E[t_R]}$.  Do you detect any relationship between the estimator and $R$? Explain."
   ]
  },
  {
   "cell_type": "code",
   "execution_count": 9,
   "id": "e51f5f61",
   "metadata": {},
   "outputs": [
    {
     "data": {
      "text/plain": [
       "array([ 134.25,  840.79, 2388.36, 2982.09, 7000.39])"
      ]
     },
     "execution_count": 9,
     "metadata": {},
     "output_type": "execute_result"
    }
   ],
   "source": [
    "meanarr = np.zeros(5)\n",
    "\n",
    "radius10 = randomwalk_lengthR_Generator(100, [0, 0], 1000000, 10)\n",
    "meanarr[0] = radius10.mean()\n",
    "\n",
    "radius20 = randomwalk_lengthR_Generator(100, [0, 0], 1000000, 20)\n",
    "meanarr[1] = radius20.mean()\n",
    "\n",
    "radius30 = randomwalk_lengthR_Generator(100, [0, 0], 1000000, 30)\n",
    "meanarr[2] = radius30.mean()\n",
    "\n",
    "radius40 = randomwalk_lengthR_Generator(100, [0, 0], 1000000, 40)\n",
    "meanarr[3] = radius40.mean()\n",
    "\n",
    "radius50 = randomwalk_lengthR_Generator(100, [0, 0], 1000000, 50)\n",
    "meanarr[4] = radius50.mean()\n",
    "\n",
    "meanarr"
   ]
  },
  {
   "cell_type": "markdown",
   "id": "6d6aaa14",
   "metadata": {},
   "source": [
    "As the radius increases, the average number of steps taken to reach a point that is outside the circle of radius R increases. This relationship is proportional, however, not directly proportional. (i.e. Average number of steps for R = 50 is significantly greater than 5x the average number of steps for R = 10)"
   ]
  },
  {
   "cell_type": "markdown",
   "id": "864d3a93",
   "metadata": {},
   "source": [
    "(d) For each of your five arrays of $t_R$ values in part (c), plot the histogram.\n",
    "Does it appear the values are normally distributed, i.e. follow a bell shaped\n",
    "curve, or not? Explain your answer. (See Chapter 4B for histogram plots.)"
   ]
  },
  {
   "cell_type": "code",
   "execution_count": 10,
   "id": "5867ed65",
   "metadata": {},
   "outputs": [],
   "source": [
    "import matplotlib.pyplot as plt"
   ]
  },
  {
   "cell_type": "code",
   "execution_count": 11,
   "id": "6f7d6222",
   "metadata": {},
   "outputs": [],
   "source": [
    "n, bins, patches = plt.hist(x=radius10, bins='auto', color='green',\n",
    "                            alpha=0.7, rwidth=0.85)\n",
    "plt.grid(axis='y', alpha=0.75)\n",
    "plt.xlabel('Number of Steps')\n",
    "plt.ylabel('Frequency')\n",
    "plt.title('Walks of Radius 10')\n",
    "maxfreq = n.max()\n",
    "plt.ylim(ymax=np.ceil(maxfreq / 10) * 10 if maxfreq % 10 else maxfreq + 10)\n",
    "\n",
    "plt.show()"
   ]
  },
  {
   "cell_type": "code",
   "execution_count": 12,
   "id": "dc0e6c1c",
   "metadata": {},
   "outputs": [],
   "source": [
    "n, bins, patches = plt.hist(x=radius20, bins='auto', color='blue',\n",
    "                            alpha=0.7, rwidth=0.85)\n",
    "\n",
    "plt.grid(axis='y', alpha=0.75)\n",
    "plt.xlabel('Number of Steps')\n",
    "plt.ylabel('Frequency')\n",
    "plt.title('Walks of Radius 20')\n",
    "maxfreq = n.max()\n",
    "plt.ylim(ymax=np.ceil(maxfreq / 10) * 10 if maxfreq % 10 else maxfreq + 10)\n",
    "\n",
    "plt.show()"
   ]
  },
  {
   "cell_type": "code",
   "execution_count": 13,
   "id": "556baf7d",
   "metadata": {},
   "outputs": [],
   "source": [
    "n, bins, patches = plt.hist(x=radius30, bins='auto', color='yellow',\n",
    "                            alpha=0.7, rwidth=0.85)\n",
    "\n",
    "plt.grid(axis='y', alpha=0.75)\n",
    "plt.xlabel('Number of Steps')\n",
    "plt.ylabel('Frequency')\n",
    "plt.title('Walks of Radius 30')\n",
    "maxfreq = n.max()\n",
    "plt.ylim(ymax=np.ceil(maxfreq / 10) * 10 if maxfreq % 10 else maxfreq + 10)\n",
    "\n",
    "plt.show()"
   ]
  },
  {
   "cell_type": "code",
   "execution_count": 14,
   "id": "4f257858",
   "metadata": {},
   "outputs": [],
   "source": [
    "n, bins, patches = plt.hist(x=radius40, bins='auto', color='red',\n",
    "                            alpha=0.7, rwidth=0.85)\n",
    "\n",
    "plt.grid(axis='y', alpha=0.75)\n",
    "plt.xlabel('Number of Steps')\n",
    "plt.ylabel('Frequency')\n",
    "plt.title('Walks of Radius 40')\n",
    "maxfreq = n.max()\n",
    "plt.ylim(ymax=np.ceil(maxfreq / 10) * 10 if maxfreq % 10 else maxfreq + 10)\n",
    "\n",
    "plt.show()"
   ]
  },
  {
   "cell_type": "code",
   "execution_count": 15,
   "id": "34b71733",
   "metadata": {
    "scrolled": false
   },
   "outputs": [],
   "source": [
    "n, bins, patches = plt.hist(x=radius50, bins='auto', color='black',\n",
    "                            alpha=0.7, rwidth=0.85)\n",
    "\n",
    "plt.grid(axis='y', alpha=0.75)\n",
    "plt.xlabel('Number of Steps')\n",
    "plt.ylabel('Frequency')\n",
    "plt.title('Walks of Radius 50')\n",
    "maxfreq = n.max()\n",
    "plt.ylim(ymax=np.ceil(maxfreq / 10) * 10 if maxfreq % 10 else maxfreq + 10)\n",
    "\n",
    "plt.show()"
   ]
  },
  {
   "cell_type": "markdown",
   "id": "5f429bda",
   "metadata": {},
   "source": [
    "For all of these plots, the data is heavily skewed right, even after ignoring outliers. Much of the data for all histograms is concentrated on the left-hand side of the histogram, implying this heavy skew."
   ]
  },
  {
   "cell_type": "markdown",
   "id": "6ec26880-3d37-4ce6-b11c-a97d15ed2e36",
   "metadata": {},
   "source": [
    "## 3 Random Walks on Graphs\n",
    "\n",
    "As you saw in problem 1, a random walk on the integer lattice in the\n",
    "plane can roam widely and spend time in various parts of the plane. An \n",
    "interesting problem is to understand what happens when a walk\n",
    "is confined to a bounded (or finite) subset of the integer lattice $L$.\n",
    "We explore this in the following. First, the probability. \n",
    "\n",
    "Let $G$ denote a connected subset of $L$. $G$ should consist of a\n",
    "finite set of lattice points $V$  and a collection of edges $E$\n",
    "connecting them. \n",
    "\n",
    "* The endpoints of edges in $E$ must be vertices\n",
    "in $V$\n",
    "\n",
    "* every vertex in $V$ must be the endpoint of one or more\n",
    "edges in $E$, and \n",
    "\n",
    "*every pair of vertices can be connected by walking\n",
    "along a subset of the edges in $E$. \n",
    "\n",
    "Given a random walk starting\n",
    "at a point $p \\in V$, we ask how long the walk is expected to take\n",
    "before reaching a second point $q \\in V$ for the first time. This value\n",
    "is called the *hitting time* $H(p,q)$ of the walk. The hitting time is \n",
    "a random variable, so we can compute an estimate of its expected value $\\overline{E(H(p,q))}$.\n",
    "\n",
    "Before we can conduct any experiments, we'll need to construct a finite graph."
   ]
  },
  {
   "cell_type": "markdown",
   "id": "ee409266-39d4-46c4-96c9-b5ed712ae024",
   "metadata": {
    "tags": []
   },
   "source": [
    "### (a) A Small Finite Graph in Dictionary Format\n",
    "\n",
    "Construct a graph $G = (V,E)$ of approximately 20 vertices by hand\n",
    "with the following properties (encoding in Python comes next):\n",
    "\n",
    "* It contains the vertice $[0,0]$ and $[1,0]$ and the edge connecting\n",
    "them. \n",
    "\n",
    "* The other vertices  are spread around this edge, some with $x$-coordinate\n",
    "greater than or equal to 1 and others with $x$-coordinate less than or equal\n",
    "to zero\n",
    "\n",
    "* There should be between 25 and 30 edges but no edge other than\n",
    "the first edge should connect points $[0,y]$ and $[1,y]$.  \n",
    "\n",
    "This will produce a graph consisting of two connected ``islands'' connected\n",
    "by a single bridge. \n",
    "\n",
    "Store you graph in a dictionary as follows:\n",
    "\n",
    "* There is one key for each vertex, and the key is a string. For example,\n",
    "'[0, 0]' and '[1, 0]' should be keys.\n",
    "\n",
    "* The value for each key should be a list of the vertices it connects\n",
    "to. For example, if [0,0] also connects to [-1,0] and [0,1], the value that goes\n",
    "with key =  '[0, 0]' should be [[1,0],[-1, 0], [0, 1]]\n",
    "\n",
    "* Create the dictionary by first creating two lists. For keys it is a list of\n",
    "strings. For values it is a list of lists of adjacent vertices. Use the zip construction to\n",
    "produce the dictionary."
   ]
  },
  {
   "cell_type": "code",
   "execution_count": 16,
   "id": "b7e31c8a",
   "metadata": {},
   "outputs": [
    {
     "data": {
      "text/plain": [
       "{'[0, 0]': [[-1, 0], [1, 0]],\n",
       " '[-1, 0]': [[0, 0], [-1, 1], [-1, -1], [-2, 0]],\n",
       " '[-2, 0]': [[-1, 0], [-2, 1], [-2, -1], [-3, 0]],\n",
       " '[-2, 1]': [[-2, 0], [-1, 1]],\n",
       " '[-1, 1]': [[-2, 1], [-1, 0]],\n",
       " '[-1, -1]': [[-1, 0], [-2, -1]],\n",
       " '[-2, -1]': [[-1, -1], [-2, 0], [-3, -1]],\n",
       " '[-3, -1]': [[-3, 0], [-2, -1]],\n",
       " '[-3, 0]': [[-2, 0], [-4, 0], [-3, -1]],\n",
       " '[-4, 0]': [[-3, 0]],\n",
       " '[1, 0]': [[0, 0], [1, 1], [1, -1], [2, 0]],\n",
       " '[2, 0]': [[1, 0], [3, 0], [2, 1], [2, -1]],\n",
       " '[2, 1]': [[1, 1], [2, 0]],\n",
       " '[1, 1]': [[1, 0], [2, 1]],\n",
       " '[1, -1]': [[1, 0], [2, -1]],\n",
       " '[2, -1]': [[1, -1], [2, 0], [3, -1]],\n",
       " '[3, -1]': [[2, -1], [3, 0]],\n",
       " '[3, 0]': [[2, 0], [4, 0], [3, -1]],\n",
       " '[4, 0]': [[3, 0], [5, 0]],\n",
       " '[5, 0]': [[4, 0]]}"
      ]
     },
     "execution_count": 16,
     "metadata": {},
     "output_type": "execute_result"
    }
   ],
   "source": [
    "vertex_list = ['[0, 0]', '[-1, 0]', '[-2, 0]', '[-2, 1]', '[-1, 1]', '[-1, -1]', '[-2, -1]', '[-3, -1]', '[-3, 0]', \n",
    "               '[-4, 0]', '[1, 0]', '[2, 0]', '[2, 1]', '[1, 1]', '[1, -1]', '[2, -1]', '[3, -1]', '[3, 0]', '[4, 0]', \n",
    "               '[5, 0]']\n",
    "edge_list = [[[-1, 0], [1, 0]], [[0, 0], [-1, 1], [-1, -1], [-2, 0]], [[-1, 0], [-2, 1], [-2, -1], [-3, 0]], \n",
    "             [[-2, 0], [-1, 1]], [[-2, 1], [-1, 0]], [[-1, 0], [-2, -1]], [[-1, -1], [-2, 0], [-3, -1]], \n",
    "             [[-3, 0], [-2, -1]], [[-2, 0], [-4, 0], [-3, -1]], [[-3, 0]],\n",
    "             [[0, 0], [1, 1], [1, -1], [2, 0]], [[1, 0], [3, 0], [2, 1], [2, -1]], [[1, 1], [2, 0]], [[1, 0], [2, 1]], \n",
    "             [[1, 0], [2, -1]], [[1, -1], [2, 0], [3, -1]], [[2, -1], [3, 0]], [[2, 0], [4, 0], [3, -1]], [[3, 0], [5,0]],\n",
    "             [[4, 0]]]\n",
    "\n",
    "graph_dict = dict(zip(vertex_list, edge_list))\n",
    "graph_dict"
   ]
  },
  {
   "cell_type": "markdown",
   "id": "b967c2cd-aef6-4632-b550-d3782a64bbbc",
   "metadata": {},
   "source": [
    "### (b) A Random Walk on a Finite Graph\n",
    "\n",
    "Modify your function from 1 (a) to generate a walk on your graph. There are\n",
    "several differences to take into account:\n",
    "\n",
    "* Vertices will no longer be attached to exactly four other edges.\n",
    "\n",
    "* Vertices will be connected to *d* other vertices where *d* is the length\n",
    "of the value associated to the vertex. \n",
    "\n",
    "For example, in the above, suppose\n",
    "the dictionary is called graph_dict and mywalk[k] is the kth vertex of the\n",
    "walk, then \n",
    "\n",
    "    newpoints = graph_dict.get(str(mywalk[k]))\n",
    "\n",
    "is the list of points attached to the point mywalk[k]. \n",
    "\n",
    "The next point is chosen randomly from these, but the choice will\n",
    "be only among len(newpoints) points. Then the nextpoint will be\n",
    "\n",
    "    nextpoint = newpoints[random.randint(0,len(newpoints)-1)]\n",
    "\n",
    "And we can add it to the list with\n",
    "\n",
    "    mywalk.append(newpoint)\n",
    "\n",
    "Embedding this in your code will produce a random walk of the specified length\n",
    "on your graph."
   ]
  },
  {
   "cell_type": "code",
   "execution_count": 17,
   "id": "6e7cc84d",
   "metadata": {},
   "outputs": [],
   "source": [
    "def randomwalk_Graph(graph, init_pos, num_steps):\n",
    "    counter = 0; mywalk = [init_pos]\n",
    "    \n",
    "    if (len(init_pos) != 2):\n",
    "        return(\"ERROR: Initial Position is not a Valid Point in 2-Dimensional Space\")\n",
    "        \n",
    "    while (counter < num_steps):\n",
    "        \n",
    "        ## Update mywalk to include the New Point\n",
    "        newpoints = graph_dict[str(mywalk[counter])]\n",
    "\n",
    "        nextpoint = newpoints[random.randint(0, len(newpoints) - 1)]\n",
    "\n",
    "        mywalk.append(nextpoint)\n",
    "        \n",
    "        counter += 1\n",
    "        \n",
    "    return(mywalk)"
   ]
  },
  {
   "cell_type": "code",
   "execution_count": 18,
   "id": "671e7617",
   "metadata": {},
   "outputs": [
    {
     "data": {
      "text/plain": [
       "[[0, 0],\n",
       " [1, 0],\n",
       " [2, 0],\n",
       " [2, 1],\n",
       " [2, 0],\n",
       " [2, -1],\n",
       " [2, 0],\n",
       " [1, 0],\n",
       " [1, -1],\n",
       " [1, 0],\n",
       " [1, -1]]"
      ]
     },
     "execution_count": 18,
     "metadata": {},
     "output_type": "execute_result"
    }
   ],
   "source": [
    "randomwalk_Graph(graph_dict, [0, 0], 10)"
   ]
  },
  {
   "cell_type": "markdown",
   "id": "c8513f65-1fa2-493d-9341-9edd9521ab97",
   "metadata": {},
   "source": [
    "### (c) Incorporating Hitting Time\n",
    "\n",
    "Modify your function so that in addition to the starting point, called p above,\n",
    "it is given as input the endpoint q, and it records the time it takes to \n",
    "get from p to q. Notice p can equal q."
   ]
  },
  {
   "cell_type": "code",
   "execution_count": 19,
   "id": "7c49ca77",
   "metadata": {},
   "outputs": [],
   "source": [
    "def randomwalk_Target(graph, init_pos, target_pos, num_steps):\n",
    "    counter = 0; mywalk = [init_pos]\n",
    "    \n",
    "    while (counter < num_steps):\n",
    "        \n",
    "        if (mywalk[counter] == target_pos):\n",
    "            print(\"Target Position reached after\", counter, \"iterations\")\n",
    "            return(counter)\n",
    "        \n",
    "        ## Update to find the Next Point in the Walk\n",
    "        newpoints = graph_dict[str(mywalk[counter])]\n",
    "\n",
    "        nextpoint = newpoints[random.randint(0, len(newpoints) - 1)]\n",
    "\n",
    "        mywalk.append(nextpoint)\n",
    "        \n",
    "        counter += 1\n",
    "        \n",
    "    print(\"Target Position not reached. Try to increases the number of steps.\")"
   ]
  },
  {
   "cell_type": "code",
   "execution_count": 20,
   "id": "f4db485e",
   "metadata": {
    "scrolled": true
   },
   "outputs": [
    {
     "name": "stdout",
     "output_type": "stream",
     "text": [
      "Target Position reached after 116 iterations\n"
     ]
    },
    {
     "data": {
      "text/plain": [
       "116"
      ]
     },
     "execution_count": 20,
     "metadata": {},
     "output_type": "execute_result"
    }
   ],
   "source": [
    "randomwalk_Target(graph_dict, [0, 0], [4, 0], 1000)"
   ]
  },
  {
   "cell_type": "code",
   "execution_count": 21,
   "id": "36922159",
   "metadata": {},
   "outputs": [
    {
     "name": "stdout",
     "output_type": "stream",
     "text": [
      "Target Position reached after 0 iterations\n"
     ]
    },
    {
     "data": {
      "text/plain": [
       "0"
      ]
     },
     "execution_count": 21,
     "metadata": {},
     "output_type": "execute_result"
    }
   ],
   "source": [
    "randomwalk_Target(graph_dict, [0, 0], [0, 0], 1000)"
   ]
  },
  {
   "cell_type": "markdown",
   "id": "9ff6121a-60ab-447e-a85b-7252e87c77dd",
   "metadata": {},
   "source": [
    "### (d) Estimates of Expected Values for Hitting Times\n",
    "\n",
    "Similar to problem 2, \n",
    "\n",
    "* select five pairs of points from different parts of \n",
    "your graph\n",
    "\n",
    "* calculate the hitting time for 100 random walks starting at the\n",
    "first of point of each pair and hitting the second point of the\n",
    "pair\n",
    "\n",
    "* compute the mean hitting time for each pair\n",
    "\n",
    "Can you draw any conclusions about hitting time from these different\n",
    "hitting time estimates? Explain."
   ]
  },
  {
   "cell_type": "code",
   "execution_count": 22,
   "id": "3102c0f6",
   "metadata": {},
   "outputs": [],
   "source": [
    "## Redefine Function to Remove Print Statements\n",
    "\n",
    "def randomwalk_Target(graph, init_pos, target_pos, num_steps):\n",
    "    counter = 0; mywalk = [init_pos]\n",
    "    \n",
    "    while (counter < num_steps):\n",
    "        \n",
    "        if (mywalk[counter] == target_pos):\n",
    "            return(counter)\n",
    "        \n",
    "        ## Update to find the Next Point in the Walk\n",
    "        newpoints = graph_dict[str(mywalk[counter])]\n",
    "\n",
    "        nextpoint = newpoints[random.randint(0, len(newpoints) - 1)]\n",
    "\n",
    "        mywalk.append(nextpoint)\n",
    "        \n",
    "        counter += 1\n",
    "        \n",
    "    return(None)"
   ]
  },
  {
   "cell_type": "code",
   "execution_count": 23,
   "id": "f8d04710",
   "metadata": {},
   "outputs": [
    {
     "data": {
      "text/plain": [
       "array([130.06,  33.54, 188.62,  92.44, 204.66])"
      ]
     },
     "execution_count": 23,
     "metadata": {},
     "output_type": "execute_result"
    }
   ],
   "source": [
    "pair1 = np.zeros(100); pair2 = np.zeros(100); pair3 = np.zeros(100); pair4 = np.zeros(100); pair5 = np.zeros(100);\n",
    "\n",
    "for i in range(100):\n",
    "    pair1[i] = randomwalk_Target(graph_dict, [0, 0], [4, 0], 100000)\n",
    "    pair2[i] = randomwalk_Target(graph_dict, [-2, -1], [0, 0], 100000)\n",
    "    pair3[i] = randomwalk_Target(graph_dict, [3, 0], [-4, 0], 100000)\n",
    "    pair4[i] = randomwalk_Target(graph_dict, [1, 1], [-1, -1], 100000)\n",
    "    pair5[i] = randomwalk_Target(graph_dict, [-4, 0], [5, 0], 100000)\n",
    "\n",
    "meanarr = np.zeros(5)\n",
    "meanarr[0] = pair1.mean(); meanarr[1] = pair2.mean(); meanarr[2] = pair3.mean() \n",
    "meanarr[3] = pair4.mean(); meanarr[4] = pair5.mean();\n",
    "\n",
    "meanarr"
   ]
  },
  {
   "cell_type": "markdown",
   "id": "4f1b273a",
   "metadata": {},
   "source": [
    "Due to the construction of the graph, it is hard to infer any true relationship of average hitting time between two points. This is because not every point has 4 possible points to go to, unlike in a traditional cartesian plane. However, a rough trend is showing that as the distance between points increases, the average hitting time also increases. Much of this relationship can likely be attributed to the random nature of the sequential point generation. "
   ]
  }
 ],
 "metadata": {
  "kernelspec": {
   "display_name": "Python 3 (ipykernel)",
   "language": "python",
   "name": "python3"
  },
  "language_info": {
   "codemirror_mode": {
    "name": "ipython",
    "version": 3
   },
   "file_extension": ".py",
   "mimetype": "text/x-python",
   "name": "python",
   "nbconvert_exporter": "python",
   "pygments_lexer": "ipython3",
   "version": "3.9.13"
  }
 },
 "nbformat": 4,
 "nbformat_minor": 5
}
